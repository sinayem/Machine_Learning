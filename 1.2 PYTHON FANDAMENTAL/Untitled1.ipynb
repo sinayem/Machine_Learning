{
 "cells": [
  {
   "cell_type": "markdown",
   "id": "cd220f5c",
   "metadata": {},
   "source": [
    "# Operator\n",
    "## **,%,/,//,*,-,+"
   ]
  },
  {
   "cell_type": "markdown",
   "id": "7fb01a1e",
   "metadata": {},
   "source": [
    "# Data type"
   ]
  },
  {
   "cell_type": "code",
   "execution_count": 24,
   "id": "0e80d226",
   "metadata": {},
   "outputs": [],
   "source": [
    "y = \"nayem \"\n",
    "x = \"khan\""
   ]
  },
  {
   "cell_type": "code",
   "execution_count": 6,
   "id": "9254125d",
   "metadata": {},
   "outputs": [
    {
     "data": {
      "text/plain": [
       "range(0, 2)"
      ]
     },
     "execution_count": 6,
     "metadata": {},
     "output_type": "execute_result"
    }
   ],
   "source": [
    "range(0,2)"
   ]
  },
  {
   "cell_type": "code",
   "execution_count": 26,
   "id": "40e42098",
   "metadata": {},
   "outputs": [
    {
     "name": "stdout",
     "output_type": "stream",
     "text": [
      "3.3333\n"
     ]
    }
   ],
   "source": [
    "a = input()"
   ]
  },
  {
   "cell_type": "code",
   "execution_count": 27,
   "id": "bc8910fc",
   "metadata": {},
   "outputs": [
    {
     "name": "stdout",
     "output_type": "stream",
     "text": [
      "3.3333\n"
     ]
    }
   ],
   "source": [
    "print(a)"
   ]
  },
  {
   "cell_type": "code",
   "execution_count": 28,
   "id": "93a24d50",
   "metadata": {},
   "outputs": [],
   "source": [
    "x=10"
   ]
  },
  {
   "cell_type": "code",
   "execution_count": 31,
   "id": "b5e4f8fb",
   "metadata": {},
   "outputs": [
    {
     "name": "stdout",
     "output_type": "stream",
     "text": [
      "i am 10 years old\n"
     ]
    }
   ],
   "source": [
    "print(\"i am \"+str(x)+\" years old\")"
   ]
  },
  {
   "cell_type": "code",
   "execution_count": 33,
   "id": "39357a7b",
   "metadata": {},
   "outputs": [
    {
     "name": "stdout",
     "output_type": "stream",
     "text": [
      "3.1416\n"
     ]
    }
   ],
   "source": [
    "pi = 3.1416\n",
    "print(pi)"
   ]
  },
  {
   "cell_type": "code",
   "execution_count": 39,
   "id": "12167735",
   "metadata": {},
   "outputs": [
    {
     "name": "stdout",
     "output_type": "stream",
     "text": [
      "tamim\n"
     ]
    },
    {
     "data": {
      "text/plain": [
       "5"
      ]
     },
     "execution_count": 39,
     "metadata": {},
     "output_type": "execute_result"
    }
   ],
   "source": [
    "x = input()\n",
    "len(x)\n"
   ]
  },
  {
   "cell_type": "code",
   "execution_count": 42,
   "id": "70a9f82d",
   "metadata": {},
   "outputs": [
    {
     "name": "stdout",
     "output_type": "stream",
     "text": [
      "5\n"
     ]
    }
   ],
   "source": [
    "print(len(x))"
   ]
  },
  {
   "cell_type": "code",
   "execution_count": 43,
   "id": "4dbf40cf",
   "metadata": {},
   "outputs": [
    {
     "data": {
      "text/plain": [
       "False"
      ]
     },
     "execution_count": 43,
     "metadata": {},
     "output_type": "execute_result"
    }
   ],
   "source": [
    "21=='21'"
   ]
  },
  {
   "cell_type": "code",
   "execution_count": null,
   "id": "7dd11d4b",
   "metadata": {},
   "outputs": [],
   "source": [
    "21 == 21.1"
   ]
  },
  {
   "cell_type": "code",
   "execution_count": 1,
   "id": "63ab2d63",
   "metadata": {},
   "outputs": [
    {
     "name": "stdout",
     "output_type": "stream",
     "text": [
      "my age is 12 265\n"
     ]
    }
   ],
   "source": [
    "x=12\n",
    "y=265\n",
    "print(f\"my age is {x} {y}\")\n"
   ]
  },
  {
   "cell_type": "code",
   "execution_count": 2,
   "id": "1e2c4ad2",
   "metadata": {},
   "outputs": [
    {
     "name": "stdout",
     "output_type": "stream",
     "text": [
      "tamim\n",
      "16\n",
      "hey tamimage is 16\n"
     ]
    }
   ],
   "source": [
    "name = input()\n",
    "age = input()\n",
    "age = int(age)\n",
    "if name ==\"tamim\" and age < 19 :\n",
    "    print (\"hey tamim\"+f\" age is {age}\")\n",
    "elif name ==\"nayem\"and age < 19:\n",
    "    print(\"nayem\"+f\"age is {age}\")\n",
    "else : print(\"not tamim or not nayem\")"
   ]
  },
  {
   "cell_type": "code",
   "execution_count": 27,
   "id": "661e717c",
   "metadata": {},
   "outputs": [
    {
     "name": "stdout",
     "output_type": "stream",
     "text": [
      "6\n",
      "10\n",
      "1=========\n",
      "1 2========\n",
      "1 2 3=======\n",
      "1 2 3 4======\n",
      "1 2 3 4 5=====\n",
      "1 2 3 4 5 6====\n"
     ]
    }
   ],
   "source": [
    "a = int(input())\n",
    "b = int(input())\n",
    "for i in range(1,a+1):\n",
    "    print(*range(1,i+1),end = \"\")\n",
    "    print(\"=\"*(b-i))\n",
    "        "
   ]
  },
  {
   "cell_type": "code",
   "execution_count": 35,
   "id": "77602a7e",
   "metadata": {},
   "outputs": [
    {
     "name": "stdout",
     "output_type": "stream",
     "text": [
      "jupyter\n",
      "jupYteR"
     ]
    }
   ],
   "source": [
    "s = input()\n",
    "for i in range(0,len(s)):\n",
    "    if(i==0):print(s[i],end=\"\")\n",
    "    elif(i%3==0):print(s[i].upper(),end=\"\")\n",
    "    else :print (s[i],end=\"\") "
   ]
  },
  {
   "cell_type": "code",
   "execution_count": 5,
   "id": "fe93a4c3",
   "metadata": {},
   "outputs": [],
   "source": [
    "s = \"i am 20 year's old\""
   ]
  },
  {
   "cell_type": "code",
   "execution_count": 6,
   "id": "55d565cc",
   "metadata": {},
   "outputs": [
    {
     "name": "stdout",
     "output_type": "stream",
     "text": [
      "i am 20 year's old\n"
     ]
    }
   ],
   "source": [
    "print(s)"
   ]
  },
  {
   "cell_type": "markdown",
   "id": "2663d261",
   "metadata": {},
   "source": [
    "# while ,for\n"
   ]
  },
  {
   "cell_type": "code",
   "execution_count": null,
   "id": "1239007b",
   "metadata": {},
   "outputs": [],
   "source": [
    "z = 0\n",
    "x = int(input())\n",
    "while z < x:\n",
    "    print (\"Hello world\")\n",
    "    z=z+1"
   ]
  },
  {
   "cell_type": "code",
   "execution_count": 1,
   "id": "45bb9baa",
   "metadata": {},
   "outputs": [
    {
     "name": "stdout",
     "output_type": "stream",
     "text": [
      "0\n",
      "1\n",
      "2\n",
      "3\n",
      "4\n",
      "5\n",
      "6\n",
      "7\n",
      "8\n",
      "9\n"
     ]
    }
   ],
   "source": [
    "for x in range(0,10):\n",
    "    print(x)"
   ]
  },
  {
   "cell_type": "code",
   "execution_count": 16,
   "id": "2539326b",
   "metadata": {},
   "outputs": [
    {
     "name": "stdout",
     "output_type": "stream",
     "text": [
      "[(0, 0), (0, 1), (0, 2), (1, 0), (1, 1), (1, 2), (2, 0), (2, 1), (2, 2)]\n"
     ]
    }
   ],
   "source": [
    "l = []\n",
    "ll =[]\n",
    "for row in range(0,3):\n",
    "    for col in range(0,3):\n",
    "        l.append((row,col))\n",
    "    \n",
    "print(l)\n",
    "    "
   ]
  },
  {
   "cell_type": "code",
   "execution_count": null,
   "id": "c413a413",
   "metadata": {},
   "outputs": [],
   "source": []
  },
  {
   "cell_type": "code",
   "execution_count": null,
   "id": "6aba7310",
   "metadata": {},
   "outputs": [],
   "source": []
  },
  {
   "cell_type": "code",
   "execution_count": null,
   "id": "a11e85e8",
   "metadata": {},
   "outputs": [],
   "source": []
  },
  {
   "cell_type": "code",
   "execution_count": null,
   "id": "cc3995eb",
   "metadata": {},
   "outputs": [],
   "source": []
  },
  {
   "cell_type": "code",
   "execution_count": null,
   "id": "75389fb3",
   "metadata": {},
   "outputs": [],
   "source": []
  },
  {
   "cell_type": "code",
   "execution_count": null,
   "id": "b46131eb",
   "metadata": {},
   "outputs": [],
   "source": []
  },
  {
   "cell_type": "code",
   "execution_count": 13,
   "id": "61e85736",
   "metadata": {},
   "outputs": [
    {
     "name": "stdout",
     "output_type": "stream",
     "text": [
      "bang\n"
     ]
    }
   ],
   "source": [
    "s = 'bangladesh'\n",
    "print(s[0:4])"
   ]
  },
  {
   "cell_type": "code",
   "execution_count": 1,
   "id": "5b2de85d",
   "metadata": {},
   "outputs": [
    {
     "data": {
      "text/plain": [
       "range(0, 10)"
      ]
     },
     "execution_count": 1,
     "metadata": {},
     "output_type": "execute_result"
    }
   ],
   "source": [
    "range(10)"
   ]
  },
  {
   "cell_type": "code",
   "execution_count": 4,
   "id": "1404d1a5",
   "metadata": {},
   "outputs": [
    {
     "name": "stdout",
     "output_type": "stream",
     "text": [
      "23\n",
      "1\n",
      "2\n",
      "3\n",
      "4\n",
      "5\n",
      "6\n"
     ]
    }
   ],
   "source": [
    "n = int(input())\n",
    "ans = 0\n",
    "for i in range(1,n):\n",
    "    ans+=i\n",
    "    if(ans<=n):\n",
    "        print(i)\n",
    "    else: break"
   ]
  },
  {
   "cell_type": "code",
   "execution_count": 3,
   "id": "82c41609",
   "metadata": {},
   "outputs": [
    {
     "name": "stdout",
     "output_type": "stream",
     "text": [
      "hello world\n",
      "hello world\n",
      "hello world\n",
      "hello world\n",
      "hello world\n",
      "hello world\n",
      "hello world\n",
      "hello world\n",
      "hello world\n",
      "hello world\n",
      "hello world\n"
     ]
    }
   ],
   "source": [
    "for i in range(1,100):\n",
    "    if(i>11): break\n",
    "    else : print('hello world')"
   ]
  },
  {
   "cell_type": "code",
   "execution_count": 5,
   "id": "8e210e3c",
   "metadata": {},
   "outputs": [
    {
     "name": "stdout",
     "output_type": "stream",
     "text": [
      "1\n",
      "2\n",
      "3\n",
      "3\n"
     ]
    }
   ],
   "source": [
    "a = int(input())\n",
    "b = int(input())\n",
    "c = int(input())\n",
    "\n",
    "if(a>b and a>c):print(a)\n",
    "elif(b>a and b>c):print(b)\n",
    "else : print(c)"
   ]
  },
  {
   "cell_type": "code",
   "execution_count": 6,
   "id": "f4bfc996",
   "metadata": {},
   "outputs": [
    {
     "name": "stdout",
     "output_type": "stream",
     "text": [
      "bangladeshbangladeshbangladeshbangladeshbangladeshbangladeshbangladeshbangladeshbangladeshbangladeshbangladeshbangladeshbangladeshbangladeshbangladeshbangladeshbangladeshbangladeshbangladeshbangladeshbangladeshbangladeshbangladeshbangladeshbangladeshbangladeshbangladeshbangladeshbangladeshbangladeshbangladeshbangladeshbangladeshbangladeshbangladeshbangladeshbangladeshbangladeshbangladeshbangladeshbangladeshbangladeshbangladeshbangladeshbangladeshbangladeshbangladeshbangladeshbangladeshbangladeshbangladeshbangladeshbangladeshbangladeshbangladeshbangladeshbangladeshbangladeshbangladeshbangladeshbangladeshbangladeshbangladeshbangladeshbangladeshbangladeshbangladeshbangladeshbangladeshbangladeshbangladeshbangladeshbangladeshbangladeshbangladeshbangladeshbangladeshbangladeshbangladeshbangladeshbangladeshbangladeshbangladeshbangladeshbangladeshbangladeshbangladeshbangladeshbangladeshbangladeshbangladeshbangladeshbangladeshbangladeshbangladeshbangladeshbangladeshbangladeshbangladeshbangladesh\n"
     ]
    }
   ],
   "source": [
    "print(\"bangladesh\"*100)"
   ]
  },
  {
   "cell_type": "code",
   "execution_count": 9,
   "id": "e5680201",
   "metadata": {},
   "outputs": [
    {
     "name": "stdout",
     "output_type": "stream",
     "text": [
      "-2\n",
      "0\n",
      "2\n",
      "4\n",
      "6\n",
      "8\n"
     ]
    }
   ],
   "source": [
    "for i in range(-2,10,2):\n",
    "    print(i)"
   ]
  },
  {
   "cell_type": "markdown",
   "id": "4d296f24",
   "metadata": {},
   "source": [
    "# Function"
   ]
  },
  {
   "cell_type": "code",
   "execution_count": 13,
   "id": "3f016f4d",
   "metadata": {},
   "outputs": [
    {
     "name": "stdout",
     "output_type": "stream",
     "text": [
      "2\n",
      "3\n",
      "5\n"
     ]
    },
    {
     "data": {
      "text/plain": [
       "5"
      ]
     },
     "execution_count": 13,
     "metadata": {},
     "output_type": "execute_result"
    }
   ],
   "source": [
    "a = int(input())\n",
    "b = int(input())\n",
    "def add(a,b):\n",
    "    print(a+b)\n",
    "    return a+b\n",
    "add(a,b)"
   ]
  },
  {
   "cell_type": "code",
   "execution_count": 11,
   "id": "14e962a4",
   "metadata": {},
   "outputs": [
    {
     "name": "stdout",
     "output_type": "stream",
     "text": [
      "10\n",
      "0\n",
      "Div by 0 not possible\n",
      "Function has ended\n"
     ]
    }
   ],
   "source": [
    "a = int(input())\n",
    "b = int(input())\n",
    "def  d(a,b):\n",
    "    try:\n",
    "        print(a/b)\n",
    "    except:\n",
    "        return print('Div by 0 not possible')\n",
    "    finally:\n",
    "        print('Function has ended')\n",
    "d(a,b)"
   ]
  },
  {
   "cell_type": "code",
   "execution_count": 45,
   "id": "5f2ce370",
   "metadata": {},
   "outputs": [],
   "source": [
    "def show(a,b):\n",
    "    return (a+b)"
   ]
  },
  {
   "cell_type": "code",
   "execution_count": 46,
   "id": "55fa7c25",
   "metadata": {},
   "outputs": [],
   "source": [
    "x = show(2,4)"
   ]
  },
  {
   "cell_type": "code",
   "execution_count": 47,
   "id": "d20c821d",
   "metadata": {},
   "outputs": [
    {
     "name": "stdout",
     "output_type": "stream",
     "text": [
      "6\n"
     ]
    }
   ],
   "source": [
    "print(x)"
   ]
  },
  {
   "cell_type": "code",
   "execution_count": null,
   "id": "ea13085c",
   "metadata": {},
   "outputs": [],
   "source": []
  },
  {
   "cell_type": "code",
   "execution_count": null,
   "id": "4a764ee2",
   "metadata": {},
   "outputs": [],
   "source": []
  },
  {
   "cell_type": "code",
   "execution_count": null,
   "id": "394f8cbf",
   "metadata": {},
   "outputs": [],
   "source": []
  },
  {
   "cell_type": "markdown",
   "id": "1d33328e",
   "metadata": {},
   "source": [
    "# Default parameter"
   ]
  },
  {
   "cell_type": "code",
   "execution_count": 2,
   "id": "47a4d4c5",
   "metadata": {},
   "outputs": [],
   "source": [
    "def f(a,b=10):\n",
    "    print(a)\n",
    "    print(b)"
   ]
  },
  {
   "cell_type": "code",
   "execution_count": 4,
   "id": "c8befe94",
   "metadata": {},
   "outputs": [
    {
     "name": "stdout",
     "output_type": "stream",
     "text": [
      "7\n",
      "2\n"
     ]
    }
   ],
   "source": [
    "f(7,2)"
   ]
  },
  {
   "cell_type": "markdown",
   "id": "2b700b8b",
   "metadata": {},
   "source": [
    "# local vs global var"
   ]
  },
  {
   "cell_type": "code",
   "execution_count": 11,
   "id": "7a5c3feb",
   "metadata": {},
   "outputs": [],
   "source": [
    "x = 10\n",
    "def show():\n",
    "    global x\n",
    "    print(x)"
   ]
  },
  {
   "cell_type": "code",
   "execution_count": 12,
   "id": "7a092ecd",
   "metadata": {},
   "outputs": [
    {
     "name": "stdout",
     "output_type": "stream",
     "text": [
      "10\n"
     ]
    }
   ],
   "source": [
    "show()"
   ]
  },
  {
   "cell_type": "markdown",
   "id": "55105dbc",
   "metadata": {},
   "source": [
    "# *arg"
   ]
  },
  {
   "cell_type": "code",
   "execution_count": 17,
   "id": "12e538c7",
   "metadata": {},
   "outputs": [],
   "source": [
    "def show(a,b,c):\n",
    "    print(a)\n",
    "    print(b)\n",
    "    print(c)"
   ]
  },
  {
   "cell_type": "code",
   "execution_count": 20,
   "id": "d22bc6e3",
   "metadata": {},
   "outputs": [
    {
     "name": "stdout",
     "output_type": "stream",
     "text": [
      "world\n",
      "hello\n",
      "python\n",
      "\n"
     ]
    }
   ],
   "source": [
    "show(b=\"hello\",a=\"world\",c=\"python\")"
   ]
  },
  {
   "cell_type": "code",
   "execution_count": 21,
   "id": "a9d14685",
   "metadata": {},
   "outputs": [],
   "source": [
    "def show(*args):\n",
    "    print(args)"
   ]
  },
  {
   "cell_type": "code",
   "execution_count": 24,
   "id": "31b77526",
   "metadata": {},
   "outputs": [
    {
     "name": "stdout",
     "output_type": "stream",
     "text": [
      "(1, 2, 3, 'tamim', [10, 23, 34])\n"
     ]
    }
   ],
   "source": [
    "show(1,2,3,'tamim',[10,23,34])"
   ]
  },
  {
   "cell_type": "markdown",
   "id": "0323146b",
   "metadata": {},
   "source": [
    "# random"
   ]
  },
  {
   "cell_type": "code",
   "execution_count": 37,
   "id": "c6e35178",
   "metadata": {},
   "outputs": [
    {
     "name": "stdout",
     "output_type": "stream",
     "text": [
      "2\n",
      "3\n",
      "4\n",
      "4\n",
      "1\n",
      "3\n",
      "4\n",
      "5\n",
      "5\n",
      "4\n"
     ]
    }
   ],
   "source": [
    "import random\n",
    "for i in range(1,11):\n",
    "    print(random.randint(0,5))\n",
    "\n",
    "    "
   ]
  },
  {
   "cell_type": "code",
   "execution_count": 36,
   "id": "6cd1f8e7",
   "metadata": {},
   "outputs": [
    {
     "name": "stdout",
     "output_type": "stream",
     "text": [
      "hello------world\n"
     ]
    }
   ],
   "source": [
    "print('hello','world',sep='------')"
   ]
  },
  {
   "cell_type": "markdown",
   "id": "c23bcfc4",
   "metadata": {},
   "source": [
    "# list"
   ]
  },
  {
   "cell_type": "code",
   "execution_count": 2,
   "id": "0cd3c608",
   "metadata": {},
   "outputs": [],
   "source": [
    "a = [1,2,3,'nayem']"
   ]
  },
  {
   "cell_type": "code",
   "execution_count": 3,
   "id": "e0179a5e",
   "metadata": {},
   "outputs": [
    {
     "name": "stdout",
     "output_type": "stream",
     "text": [
      "[1, 2, 3, 'nayem']\n"
     ]
    }
   ],
   "source": [
    "print(a)"
   ]
  },
  {
   "cell_type": "code",
   "execution_count": 4,
   "id": "d9269b6a",
   "metadata": {},
   "outputs": [
    {
     "data": {
      "text/plain": [
       "[1, 2, 3]"
      ]
     },
     "execution_count": 4,
     "metadata": {},
     "output_type": "execute_result"
    }
   ],
   "source": [
    "a[0:3]"
   ]
  },
  {
   "cell_type": "code",
   "execution_count": 5,
   "id": "3fadc983",
   "metadata": {},
   "outputs": [
    {
     "data": {
      "text/plain": [
       "[1, 2, 3]"
      ]
     },
     "execution_count": 5,
     "metadata": {},
     "output_type": "execute_result"
    }
   ],
   "source": [
    "a[:3]"
   ]
  },
  {
   "cell_type": "code",
   "execution_count": 6,
   "id": "25132f4f",
   "metadata": {},
   "outputs": [
    {
     "data": {
      "text/plain": [
       "[2, 3, 'nayem']"
      ]
     },
     "execution_count": 6,
     "metadata": {},
     "output_type": "execute_result"
    }
   ],
   "source": [
    "a[1:4]"
   ]
  },
  {
   "cell_type": "code",
   "execution_count": 7,
   "id": "db009673",
   "metadata": {},
   "outputs": [
    {
     "data": {
      "text/plain": [
       "'hello nayem'"
      ]
     },
     "execution_count": 7,
     "metadata": {},
     "output_type": "execute_result"
    }
   ],
   "source": [
    "\"hello \"+a[3]"
   ]
  },
  {
   "cell_type": "code",
   "execution_count": 8,
   "id": "81ab24fc",
   "metadata": {},
   "outputs": [],
   "source": [
    "b = [1,2,3,'abc',['x','y','z']]"
   ]
  },
  {
   "cell_type": "code",
   "execution_count": 9,
   "id": "b3598244",
   "metadata": {},
   "outputs": [
    {
     "data": {
      "text/plain": [
       "['x', 'y', 'z']"
      ]
     },
     "execution_count": 9,
     "metadata": {},
     "output_type": "execute_result"
    }
   ],
   "source": [
    "b[4]"
   ]
  },
  {
   "cell_type": "code",
   "execution_count": 14,
   "id": "c212d696",
   "metadata": {},
   "outputs": [],
   "source": [
    "b[4][1]\n",
    "a = [1,2,3,'nayem']"
   ]
  },
  {
   "cell_type": "code",
   "execution_count": 22,
   "id": "ef10411e",
   "metadata": {},
   "outputs": [
    {
     "data": {
      "text/plain": [
       "['nayem', 3, 2, 1]"
      ]
     },
     "execution_count": 22,
     "metadata": {},
     "output_type": "execute_result"
    }
   ],
   "source": [
    "# Reverse \n",
    "a[::-1]"
   ]
  },
  {
   "cell_type": "code",
   "execution_count": 23,
   "id": "1d2e91c3",
   "metadata": {},
   "outputs": [
    {
     "data": {
      "text/plain": [
       "[1, 2, 3, 'nayem']"
      ]
     },
     "execution_count": 23,
     "metadata": {},
     "output_type": "execute_result"
    }
   ],
   "source": [
    "a"
   ]
  },
  {
   "cell_type": "code",
   "execution_count": 24,
   "id": "b480d237",
   "metadata": {},
   "outputs": [
    {
     "data": {
      "text/plain": [
       "4"
      ]
     },
     "execution_count": 24,
     "metadata": {},
     "output_type": "execute_result"
    }
   ],
   "source": [
    "len(a)"
   ]
  },
  {
   "cell_type": "code",
   "execution_count": 27,
   "id": "1809a8ad",
   "metadata": {},
   "outputs": [],
   "source": [
    "a[0]=100"
   ]
  },
  {
   "cell_type": "code",
   "execution_count": 28,
   "id": "8a082310",
   "metadata": {},
   "outputs": [
    {
     "data": {
      "text/plain": [
       "[100, 2, 3, 'nayem']"
      ]
     },
     "execution_count": 28,
     "metadata": {},
     "output_type": "execute_result"
    }
   ],
   "source": [
    "a"
   ]
  },
  {
   "cell_type": "code",
   "execution_count": 30,
   "id": "6dfdb99a",
   "metadata": {},
   "outputs": [],
   "source": [
    "s = 'bangladesh'"
   ]
  },
  {
   "cell_type": "code",
   "execution_count": 31,
   "id": "9aa38289",
   "metadata": {},
   "outputs": [
    {
     "data": {
      "text/plain": [
       "'b'"
      ]
     },
     "execution_count": 31,
     "metadata": {},
     "output_type": "execute_result"
    }
   ],
   "source": [
    "s[0] "
   ]
  },
  {
   "cell_type": "code",
   "execution_count": 32,
   "id": "dd5b5ed1",
   "metadata": {},
   "outputs": [
    {
     "ename": "TypeError",
     "evalue": "'str' object does not support item assignment",
     "output_type": "error",
     "traceback": [
      "\u001b[1;31m---------------------------------------------------------------------------\u001b[0m",
      "\u001b[1;31mTypeError\u001b[0m                                 Traceback (most recent call last)",
      "\u001b[1;32m<ipython-input-32-ab359d50dcca>\u001b[0m in \u001b[0;36m<module>\u001b[1;34m\u001b[0m\n\u001b[1;32m----> 1\u001b[1;33m \u001b[0ms\u001b[0m\u001b[1;33m[\u001b[0m\u001b[1;36m0\u001b[0m\u001b[1;33m]\u001b[0m\u001b[1;33m=\u001b[0m\u001b[1;34m'k'\u001b[0m\u001b[1;33m\u001b[0m\u001b[1;33m\u001b[0m\u001b[0m\n\u001b[0m",
      "\u001b[1;31mTypeError\u001b[0m: 'str' object does not support item assignment"
     ]
    }
   ],
   "source": [
    "s[0]='k'"
   ]
  },
  {
   "cell_type": "markdown",
   "id": "e1956867",
   "metadata": {},
   "source": []
  },
  {
   "cell_type": "code",
   "execution_count": 33,
   "id": "84c7d784",
   "metadata": {},
   "outputs": [],
   "source": [
    "s = 'hello '+'world'"
   ]
  },
  {
   "cell_type": "code",
   "execution_count": 34,
   "id": "264978cd",
   "metadata": {},
   "outputs": [
    {
     "data": {
      "text/plain": [
       "'hello world'"
      ]
     },
     "execution_count": 34,
     "metadata": {},
     "output_type": "execute_result"
    }
   ],
   "source": [
    "s"
   ]
  },
  {
   "cell_type": "code",
   "execution_count": 38,
   "id": "63f66ffd",
   "metadata": {},
   "outputs": [
    {
     "data": {
      "text/plain": [
       "[1, 2, 4, 6, 'A', 'B', 'x']"
      ]
     },
     "execution_count": 38,
     "metadata": {},
     "output_type": "execute_result"
    }
   ],
   "source": [
    "a=[1,2,4,6]+['A','B','x']\n",
    "a"
   ]
  },
  {
   "cell_type": "code",
   "execution_count": 44,
   "id": "1c4e42b4",
   "metadata": {},
   "outputs": [
    {
     "name": "stdout",
     "output_type": "stream",
     "text": [
      "1\n",
      "2\n",
      "4\n",
      "6\n",
      "A\n",
      "B\n",
      "x\n"
     ]
    }
   ],
   "source": [
    "for i in range(len(a)):\n",
    "    print(a[i])\n"
   ]
  },
  {
   "cell_type": "code",
   "execution_count": 45,
   "id": "8b8ac075",
   "metadata": {},
   "outputs": [
    {
     "data": {
      "text/plain": [
       "[1, 2, 4, 6, 'A', 'B', 'x']"
      ]
     },
     "execution_count": 45,
     "metadata": {},
     "output_type": "execute_result"
    }
   ],
   "source": [
    "a"
   ]
  },
  {
   "cell_type": "code",
   "execution_count": 47,
   "id": "e2fb0375",
   "metadata": {},
   "outputs": [
    {
     "data": {
      "text/plain": [
       "False"
      ]
     },
     "execution_count": 47,
     "metadata": {},
     "output_type": "execute_result"
    }
   ],
   "source": [
    "\"b\" in a"
   ]
  },
  {
   "cell_type": "code",
   "execution_count": 48,
   "id": "9796f4e2",
   "metadata": {},
   "outputs": [],
   "source": [
    "c = ['mango']*10"
   ]
  },
  {
   "cell_type": "code",
   "execution_count": 49,
   "id": "514598b1",
   "metadata": {},
   "outputs": [
    {
     "data": {
      "text/plain": [
       "['mango',\n",
       " 'mango',\n",
       " 'mango',\n",
       " 'mango',\n",
       " 'mango',\n",
       " 'mango',\n",
       " 'mango',\n",
       " 'mango',\n",
       " 'mango',\n",
       " 'mango']"
      ]
     },
     "execution_count": 49,
     "metadata": {},
     "output_type": "execute_result"
    }
   ],
   "source": [
    "c"
   ]
  },
  {
   "cell_type": "markdown",
   "id": "4fb8ac46",
   "metadata": {},
   "source": [
    "# list methods"
   ]
  },
  {
   "cell_type": "code",
   "execution_count": 80,
   "id": "3c856f02",
   "metadata": {},
   "outputs": [
    {
     "data": {
      "text/plain": [
       "[1, 'tamim', 2, 4, 6, 'A', 'B', 'x', 100, 1]"
      ]
     },
     "execution_count": 80,
     "metadata": {},
     "output_type": "execute_result"
    }
   ],
   "source": [
    "a"
   ]
  },
  {
   "cell_type": "code",
   "execution_count": 81,
   "id": "73e9a310",
   "metadata": {},
   "outputs": [
    {
     "data": {
      "text/plain": [
       "4"
      ]
     },
     "execution_count": 81,
     "metadata": {},
     "output_type": "execute_result"
    }
   ],
   "source": [
    "a.index(6)"
   ]
  },
  {
   "cell_type": "code",
   "execution_count": 82,
   "id": "22a6b7cd",
   "metadata": {},
   "outputs": [
    {
     "data": {
      "text/plain": [
       "[1, 'tamim', 2, 4, 6, 'A', 'B', 'x', 100, 1]"
      ]
     },
     "execution_count": 82,
     "metadata": {},
     "output_type": "execute_result"
    }
   ],
   "source": [
    "a"
   ]
  },
  {
   "cell_type": "code",
   "execution_count": 64,
   "id": "b8b7e496",
   "metadata": {},
   "outputs": [
    {
     "data": {
      "text/plain": [
       "[0, 0, 0, 1, 2, 4, 6, 'A', 'B', 'x', 0]"
      ]
     },
     "execution_count": 64,
     "metadata": {},
     "output_type": "execute_result"
    }
   ],
   "source": []
  },
  {
   "cell_type": "code",
   "execution_count": 83,
   "id": "957721c7",
   "metadata": {},
   "outputs": [],
   "source": [
    "a=[1, 2, 4, 6, 'A', 'B', 'x']"
   ]
  },
  {
   "cell_type": "code",
   "execution_count": 84,
   "id": "d6dec0bb",
   "metadata": {},
   "outputs": [
    {
     "data": {
      "text/plain": [
       "[1, 2, 4, 6, 'A', 'B', 'x']"
      ]
     },
     "execution_count": 84,
     "metadata": {},
     "output_type": "execute_result"
    }
   ],
   "source": [
    "a"
   ]
  },
  {
   "cell_type": "code",
   "execution_count": 67,
   "id": "f7d43701",
   "metadata": {},
   "outputs": [],
   "source": [
    "a.append(100)"
   ]
  },
  {
   "cell_type": "code",
   "execution_count": 68,
   "id": "e92de0d4",
   "metadata": {},
   "outputs": [
    {
     "data": {
      "text/plain": [
       "[1, 2, 4, 6, 'A', 'B', 'x', 100]"
      ]
     },
     "execution_count": 68,
     "metadata": {},
     "output_type": "execute_result"
    }
   ],
   "source": [
    "a"
   ]
  },
  {
   "cell_type": "code",
   "execution_count": 85,
   "id": "aeea8f2f",
   "metadata": {},
   "outputs": [],
   "source": [
    "a.insert(0,'tamim')"
   ]
  },
  {
   "cell_type": "code",
   "execution_count": 86,
   "id": "954019fd",
   "metadata": {},
   "outputs": [
    {
     "data": {
      "text/plain": [
       "['tamim', 1, 2, 4, 6, 'A', 'B', 'x']"
      ]
     },
     "execution_count": 86,
     "metadata": {},
     "output_type": "execute_result"
    }
   ],
   "source": [
    "a"
   ]
  },
  {
   "cell_type": "code",
   "execution_count": 87,
   "id": "235d837b",
   "metadata": {},
   "outputs": [],
   "source": [
    "a[0]='a'"
   ]
  },
  {
   "cell_type": "code",
   "execution_count": 88,
   "id": "1443bfe3",
   "metadata": {},
   "outputs": [
    {
     "data": {
      "text/plain": [
       "['a', 1, 2, 4, 6, 'A', 'B', 'x']"
      ]
     },
     "execution_count": 88,
     "metadata": {},
     "output_type": "execute_result"
    }
   ],
   "source": [
    "a"
   ]
  },
  {
   "cell_type": "code",
   "execution_count": 89,
   "id": "4cb246f7",
   "metadata": {},
   "outputs": [],
   "source": [
    "a.remove('a')"
   ]
  },
  {
   "cell_type": "code",
   "execution_count": 90,
   "id": "4bb3be77",
   "metadata": {},
   "outputs": [
    {
     "data": {
      "text/plain": [
       "[1, 2, 4, 6, 'A', 'B', 'x']"
      ]
     },
     "execution_count": 90,
     "metadata": {},
     "output_type": "execute_result"
    }
   ],
   "source": [
    "a"
   ]
  },
  {
   "cell_type": "code",
   "execution_count": 91,
   "id": "29aa65b1",
   "metadata": {},
   "outputs": [],
   "source": [
    "x=[2,1,0,-3,10,32,20]"
   ]
  },
  {
   "cell_type": "code",
   "execution_count": 95,
   "id": "bb29df3a",
   "metadata": {},
   "outputs": [],
   "source": [
    "x.sort(reverse = True)"
   ]
  },
  {
   "cell_type": "code",
   "execution_count": 96,
   "id": "d1cf9d60",
   "metadata": {},
   "outputs": [
    {
     "data": {
      "text/plain": [
       "[32, 20, 10, 2, 1, 0, -3]"
      ]
     },
     "execution_count": 96,
     "metadata": {},
     "output_type": "execute_result"
    }
   ],
   "source": [
    "x"
   ]
  },
  {
   "cell_type": "code",
   "execution_count": 97,
   "id": "89b962ba",
   "metadata": {},
   "outputs": [],
   "source": [
    "x.sort()"
   ]
  },
  {
   "cell_type": "code",
   "execution_count": 98,
   "id": "6a88969e",
   "metadata": {},
   "outputs": [
    {
     "data": {
      "text/plain": [
       "[-3, 0, 1, 2, 10, 20, 32]"
      ]
     },
     "execution_count": 98,
     "metadata": {},
     "output_type": "execute_result"
    }
   ],
   "source": [
    "x"
   ]
  },
  {
   "cell_type": "code",
   "execution_count": 107,
   "id": "eb9a5cde",
   "metadata": {},
   "outputs": [],
   "source": [
    "y =['aa','ab','aac']"
   ]
  },
  {
   "cell_type": "code",
   "execution_count": 108,
   "id": "6ff16ada",
   "metadata": {},
   "outputs": [
    {
     "data": {
      "text/plain": [
       "['aa', 'ab', 'aac']"
      ]
     },
     "execution_count": 108,
     "metadata": {},
     "output_type": "execute_result"
    }
   ],
   "source": [
    "y"
   ]
  },
  {
   "cell_type": "code",
   "execution_count": 111,
   "id": "dc8d5918",
   "metadata": {},
   "outputs": [],
   "source": [
    "y.sort(reverse = True)"
   ]
  },
  {
   "cell_type": "code",
   "execution_count": 112,
   "id": "f62597d4",
   "metadata": {},
   "outputs": [
    {
     "data": {
      "text/plain": [
       "['ab', 'aac', 'aa']"
      ]
     },
     "execution_count": 112,
     "metadata": {},
     "output_type": "execute_result"
    }
   ],
   "source": [
    "y"
   ]
  },
  {
   "cell_type": "code",
   "execution_count": 1,
   "id": "c9446c75",
   "metadata": {},
   "outputs": [],
   "source": [
    "c = [1,2,4,5,3]"
   ]
  },
  {
   "cell_type": "code",
   "execution_count": 3,
   "id": "2b4d082e",
   "metadata": {},
   "outputs": [
    {
     "name": "stdout",
     "output_type": "stream",
     "text": [
      "3\n"
     ]
    }
   ],
   "source": [
    "last_ele = c.pop()\n",
    "print(last_ele)"
   ]
  },
  {
   "cell_type": "code",
   "execution_count": 4,
   "id": "9f091a76",
   "metadata": {},
   "outputs": [
    {
     "data": {
      "text/plain": [
       "1"
      ]
     },
     "execution_count": 4,
     "metadata": {},
     "output_type": "execute_result"
    }
   ],
   "source": [
    "#Min , Max and sum\n",
    "min(c)"
   ]
  },
  {
   "cell_type": "code",
   "execution_count": 5,
   "id": "fcfdb7a4",
   "metadata": {},
   "outputs": [
    {
     "data": {
      "text/plain": [
       "5"
      ]
     },
     "execution_count": 5,
     "metadata": {},
     "output_type": "execute_result"
    }
   ],
   "source": [
    "max(c)"
   ]
  },
  {
   "cell_type": "code",
   "execution_count": 7,
   "id": "4bbf47bb",
   "metadata": {},
   "outputs": [],
   "source": [
    "ans=sum(c)"
   ]
  },
  {
   "cell_type": "code",
   "execution_count": 8,
   "id": "30b4b2c3",
   "metadata": {},
   "outputs": [
    {
     "name": "stdout",
     "output_type": "stream",
     "text": [
      "12\n"
     ]
    }
   ],
   "source": [
    "print(ans)"
   ]
  },
  {
   "cell_type": "code",
   "execution_count": 15,
   "id": "fe384c18",
   "metadata": {},
   "outputs": [
    {
     "name": "stdout",
     "output_type": "stream",
     "text": [
      "1\n",
      "2\n",
      "4\n",
      "5\n",
      "0 1\n",
      "1 2\n",
      "2 4\n",
      "3 5\n",
      "10 1\n",
      "11 2\n",
      "12 4\n",
      "13 5\n"
     ]
    }
   ],
   "source": [
    "# enumerate\n",
    "for val in (c):\n",
    "    print(val)\n",
    "for index,val in enumerate(c):\n",
    "    print(index,val)\n",
    "for index,val in enumerate(c,start = 10):\n",
    "    print(index,val)"
   ]
  },
  {
   "cell_type": "code",
   "execution_count": 22,
   "id": "5d11fd85",
   "metadata": {},
   "outputs": [],
   "source": [
    "p = list('helloworld')"
   ]
  },
  {
   "cell_type": "code",
   "execution_count": 23,
   "id": "c43bb058",
   "metadata": {},
   "outputs": [
    {
     "data": {
      "text/plain": [
       "['h', 'e', 'l', 'l', 'o', 'w', 'o', 'r', 'l', 'd']"
      ]
     },
     "execution_count": 23,
     "metadata": {},
     "output_type": "execute_result"
    }
   ],
   "source": [
    "p"
   ]
  },
  {
   "cell_type": "code",
   "execution_count": null,
   "id": "14752e19",
   "metadata": {},
   "outputs": [],
   "source": []
  },
  {
   "cell_type": "markdown",
   "id": "df20c1a6",
   "metadata": {},
   "source": [
    "# Tuples"
   ]
  },
  {
   "cell_type": "code",
   "execution_count": 26,
   "id": "6772e857",
   "metadata": {},
   "outputs": [],
   "source": [
    "z = tuple('abc')"
   ]
  },
  {
   "cell_type": "code",
   "execution_count": 27,
   "id": "896509e6",
   "metadata": {},
   "outputs": [
    {
     "data": {
      "text/plain": [
       "('a', 'b', 'c')"
      ]
     },
     "execution_count": 27,
     "metadata": {},
     "output_type": "execute_result"
    }
   ],
   "source": [
    "z"
   ]
  },
  {
   "cell_type": "code",
   "execution_count": 28,
   "id": "3b822f47",
   "metadata": {},
   "outputs": [],
   "source": [
    "x = ('a',1,2.3)"
   ]
  },
  {
   "cell_type": "code",
   "execution_count": 29,
   "id": "8f9ec49e",
   "metadata": {},
   "outputs": [
    {
     "data": {
      "text/plain": [
       "('a', 1, 2.3)"
      ]
     },
     "execution_count": 29,
     "metadata": {},
     "output_type": "execute_result"
    }
   ],
   "source": [
    "x"
   ]
  },
  {
   "cell_type": "code",
   "execution_count": 31,
   "id": "0cf6ef10",
   "metadata": {},
   "outputs": [
    {
     "ename": "TypeError",
     "evalue": "'tuple' object does not support item assignment",
     "output_type": "error",
     "traceback": [
      "\u001b[1;31m---------------------------------------------------------------------------\u001b[0m",
      "\u001b[1;31mTypeError\u001b[0m                                 Traceback (most recent call last)",
      "\u001b[1;32m<ipython-input-31-804fa195b8d4>\u001b[0m in \u001b[0;36m<module>\u001b[1;34m\u001b[0m\n\u001b[1;32m----> 1\u001b[1;33m \u001b[0mx\u001b[0m\u001b[1;33m[\u001b[0m\u001b[1;36m0\u001b[0m\u001b[1;33m]\u001b[0m \u001b[1;33m=\u001b[0m \u001b[1;34m'b'\u001b[0m\u001b[1;33m\u001b[0m\u001b[1;33m\u001b[0m\u001b[0m\n\u001b[0m",
      "\u001b[1;31mTypeError\u001b[0m: 'tuple' object does not support item assignment"
     ]
    }
   ],
   "source": [
    "# Tuples are not mutable \n",
    "x[0] = 'b'"
   ]
  },
  {
   "cell_type": "code",
   "execution_count": 32,
   "id": "c40e6040",
   "metadata": {},
   "outputs": [],
   "source": [
    "a = [1,2,3,5]\n",
    "b = a"
   ]
  },
  {
   "cell_type": "code",
   "execution_count": 33,
   "id": "c133c911",
   "metadata": {},
   "outputs": [
    {
     "data": {
      "text/plain": [
       "[1, 2, 3, 5]"
      ]
     },
     "execution_count": 33,
     "metadata": {},
     "output_type": "execute_result"
    }
   ],
   "source": [
    "a"
   ]
  },
  {
   "cell_type": "code",
   "execution_count": 34,
   "id": "1108121d",
   "metadata": {},
   "outputs": [
    {
     "data": {
      "text/plain": [
       "[1, 2, 3, 5]"
      ]
     },
     "execution_count": 34,
     "metadata": {},
     "output_type": "execute_result"
    }
   ],
   "source": [
    "b"
   ]
  },
  {
   "cell_type": "code",
   "execution_count": 35,
   "id": "c1286560",
   "metadata": {},
   "outputs": [
    {
     "data": {
      "text/plain": [
       "1"
      ]
     },
     "execution_count": 35,
     "metadata": {},
     "output_type": "execute_result"
    }
   ],
   "source": [
    "a[0]"
   ]
  },
  {
   "cell_type": "code",
   "execution_count": 36,
   "id": "a874ee11",
   "metadata": {},
   "outputs": [],
   "source": [
    "a[0]='tamim'"
   ]
  },
  {
   "cell_type": "code",
   "execution_count": 37,
   "id": "08b9105a",
   "metadata": {},
   "outputs": [
    {
     "data": {
      "text/plain": [
       "['tamim', 2, 3, 5]"
      ]
     },
     "execution_count": 37,
     "metadata": {},
     "output_type": "execute_result"
    }
   ],
   "source": [
    "a"
   ]
  },
  {
   "cell_type": "code",
   "execution_count": 38,
   "id": "2c125490",
   "metadata": {},
   "outputs": [
    {
     "data": {
      "text/plain": [
       "['tamim', 2, 3, 5]"
      ]
     },
     "execution_count": 38,
     "metadata": {},
     "output_type": "execute_result"
    }
   ],
   "source": [
    "b"
   ]
  },
  {
   "cell_type": "code",
   "execution_count": 39,
   "id": "29dbdc46",
   "metadata": {},
   "outputs": [],
   "source": [
    "a =(1,2,3,5)\n",
    "b = a"
   ]
  },
  {
   "cell_type": "code",
   "execution_count": 40,
   "id": "b5f2e305",
   "metadata": {},
   "outputs": [
    {
     "data": {
      "text/plain": [
       "(1, 2, 3, 5)"
      ]
     },
     "execution_count": 40,
     "metadata": {},
     "output_type": "execute_result"
    }
   ],
   "source": [
    "a"
   ]
  },
  {
   "cell_type": "code",
   "execution_count": 41,
   "id": "9d3a665b",
   "metadata": {},
   "outputs": [
    {
     "data": {
      "text/plain": [
       "(1, 2, 3, 5)"
      ]
     },
     "execution_count": 41,
     "metadata": {},
     "output_type": "execute_result"
    }
   ],
   "source": [
    "b"
   ]
  },
  {
   "cell_type": "code",
   "execution_count": 42,
   "id": "292d3475",
   "metadata": {},
   "outputs": [
    {
     "ename": "TypeError",
     "evalue": "'tuple' object does not support item assignment",
     "output_type": "error",
     "traceback": [
      "\u001b[1;31m---------------------------------------------------------------------------\u001b[0m",
      "\u001b[1;31mTypeError\u001b[0m                                 Traceback (most recent call last)",
      "\u001b[1;32m<ipython-input-42-f0e9a34b7e3a>\u001b[0m in \u001b[0;36m<module>\u001b[1;34m\u001b[0m\n\u001b[1;32m----> 1\u001b[1;33m \u001b[0ma\u001b[0m\u001b[1;33m[\u001b[0m\u001b[1;36m0\u001b[0m\u001b[1;33m]\u001b[0m\u001b[1;33m=\u001b[0m\u001b[1;34m'tamim'\u001b[0m\u001b[1;33m\u001b[0m\u001b[1;33m\u001b[0m\u001b[0m\n\u001b[0m",
      "\u001b[1;31mTypeError\u001b[0m: 'tuple' object does not support item assignment"
     ]
    }
   ],
   "source": [
    "a[0]='tamim'"
   ]
  },
  {
   "cell_type": "code",
   "execution_count": 43,
   "id": "52e4c9db",
   "metadata": {},
   "outputs": [
    {
     "data": {
      "text/plain": [
       "(1, 2, 3, 5)"
      ]
     },
     "execution_count": 43,
     "metadata": {},
     "output_type": "execute_result"
    }
   ],
   "source": [
    "a"
   ]
  },
  {
   "cell_type": "code",
   "execution_count": 45,
   "id": "aa00e869",
   "metadata": {},
   "outputs": [
    {
     "data": {
      "text/plain": [
       "5"
      ]
     },
     "execution_count": 45,
     "metadata": {},
     "output_type": "execute_result"
    }
   ],
   "source": [
    "max(a)"
   ]
  },
  {
   "cell_type": "code",
   "execution_count": null,
   "id": "25cbf626",
   "metadata": {},
   "outputs": [],
   "source": []
  },
  {
   "cell_type": "markdown",
   "id": "679ca7cd",
   "metadata": {},
   "source": [
    "# Set\n",
    "## Set --- unordered \n",
    "### Unique element"
   ]
  },
  {
   "cell_type": "code",
   "execution_count": 46,
   "id": "d4b4f593",
   "metadata": {},
   "outputs": [],
   "source": [
    "sci= {'math','phy','che','bangla'}\n",
    "com = {'fin','hist','bank','bangla'}"
   ]
  },
  {
   "cell_type": "code",
   "execution_count": 49,
   "id": "420effd6",
   "metadata": {},
   "outputs": [
    {
     "data": {
      "text/plain": [
       "{'bangla', 'bank', 'che', 'fin', 'hist', 'math', 'phy'}"
      ]
     },
     "execution_count": 49,
     "metadata": {},
     "output_type": "execute_result"
    }
   ],
   "source": [
    "sci.union(com)"
   ]
  },
  {
   "cell_type": "code",
   "execution_count": 56,
   "id": "faff9697",
   "metadata": {},
   "outputs": [
    {
     "data": {
      "text/plain": [
       "{'bangla'}"
      ]
     },
     "execution_count": 56,
     "metadata": {},
     "output_type": "execute_result"
    }
   ],
   "source": [
    "sci.intersection(com)"
   ]
  },
  {
   "cell_type": "code",
   "execution_count": 59,
   "id": "d35d2715",
   "metadata": {},
   "outputs": [
    {
     "data": {
      "text/plain": [
       "{'bank', 'fin', 'hist'}"
      ]
     },
     "execution_count": 59,
     "metadata": {},
     "output_type": "execute_result"
    }
   ],
   "source": [
    "com.difference(sci)"
   ]
  },
  {
   "cell_type": "code",
   "execution_count": 62,
   "id": "94d5469f",
   "metadata": {},
   "outputs": [],
   "source": [
    "# unique\n",
    "p = {1,2,3,4,1,2}"
   ]
  },
  {
   "cell_type": "code",
   "execution_count": 64,
   "id": "b176897c",
   "metadata": {},
   "outputs": [
    {
     "name": "stdout",
     "output_type": "stream",
     "text": [
      "{1, 2, 3, 4}\n"
     ]
    }
   ],
   "source": [
    "print(p)"
   ]
  },
  {
   "cell_type": "code",
   "execution_count": 67,
   "id": "6ee85db7",
   "metadata": {},
   "outputs": [
    {
     "name": "stdout",
     "output_type": "stream",
     "text": [
      "{1, 2, 3, 4}\n",
      "{1, 2, 3, 4}\n",
      "{1, 2, 3, 4}\n",
      "{1, 2, 3, 4}\n"
     ]
    }
   ],
   "source": [
    "for i in p:\n",
    "    print(p)"
   ]
  },
  {
   "cell_type": "code",
   "execution_count": null,
   "id": "bba8ab08",
   "metadata": {},
   "outputs": [],
   "source": []
  },
  {
   "cell_type": "markdown",
   "id": "d0540ee8",
   "metadata": {},
   "source": [
    "# prob -1"
   ]
  },
  {
   "cell_type": "code",
   "execution_count": 3,
   "id": "a78aa570",
   "metadata": {},
   "outputs": [
    {
     "name": "stdout",
     "output_type": "stream",
     "text": [
      "5\n",
      "18101202\n",
      "18204354\n",
      "20101457\n",
      "19303372\n",
      "20201999\n"
     ]
    }
   ],
   "source": [
    "n = int(input())\n",
    "d = {}\n",
    "s = []\n",
    "f = []\n",
    "su = []\n",
    "for i in range(0,n):\n",
    "    x = str(input())\n",
    "    if(x[2]=='1'):\n",
    "        s.append(x)\n",
    "        d[\"Spring\"] = s\n",
    "    if(x[2]=='2'):\n",
    "        f.append(x)\n",
    "        d['fall'] = f\n",
    "    if(x[2]=='3'):\n",
    "        su.append(x)\n",
    "        d['Summer'] = su\n",
    "        \n"
   ]
  },
  {
   "cell_type": "code",
   "execution_count": 4,
   "id": "88c99c02",
   "metadata": {},
   "outputs": [
    {
     "data": {
      "text/plain": [
       "{'Spring': ['18101202', '20101457'],\n",
       " 'fall': ['18204354', '20201999'],\n",
       " 'Summer': ['19303372']}"
      ]
     },
     "execution_count": 4,
     "metadata": {},
     "output_type": "execute_result"
    }
   ],
   "source": [
    "d"
   ]
  },
  {
   "cell_type": "markdown",
   "id": "cec104b4",
   "metadata": {},
   "source": [
    "## Dict\n",
    "### Unordered data type"
   ]
  },
  {
   "cell_type": "code",
   "execution_count": 32,
   "id": "5c9bd271",
   "metadata": {},
   "outputs": [],
   "source": [
    "std = {\n",
    "    'name':\"Surid\",\n",
    "    \"id\":123,\n",
    "    'sub':['math','phy'],\n",
    "    'friends':[{\n",
    "        \"name\":'tamim',\n",
    "        'id':121\n",
    "        },\n",
    "        {\n",
    "        \"name\":'jamal',\n",
    "        \"id\":120\n",
    "        }\n",
    "    ],\n",
    "    \n",
    "    \"phone\":\"0177777770\",\n",
    "    \"teacher\":[\n",
    "        {\n",
    "            \"name\":\"T1\",\n",
    "            \"phone\":\"10010010\"\n",
    "            \n",
    "        },\n",
    "        {\n",
    "            \"name\":\"T2\",\n",
    "            \"phone\":\"20020020\"\n",
    "        }\n",
    "    ]\n",
    "    \n",
    "    \n",
    "    \n",
    "    \n",
    "}"
   ]
  },
  {
   "cell_type": "code",
   "execution_count": 23,
   "id": "ded8994f",
   "metadata": {},
   "outputs": [],
   "source": [
    "# get(),items(),values(),keys()"
   ]
  },
  {
   "cell_type": "code",
   "execution_count": 29,
   "id": "d49f2fd3",
   "metadata": {},
   "outputs": [],
   "source": [
    "a=std.get('friends')"
   ]
  },
  {
   "cell_type": "code",
   "execution_count": 31,
   "id": "2aaff05f",
   "metadata": {},
   "outputs": [
    {
     "data": {
      "text/plain": [
       "[{'name': 'tamim', 'id': 121}, {'name': 'jamal', 'id': 120}]"
      ]
     },
     "execution_count": 31,
     "metadata": {},
     "output_type": "execute_result"
    }
   ],
   "source": [
    "a"
   ]
  },
  {
   "cell_type": "code",
   "execution_count": 30,
   "id": "fa4aea12",
   "metadata": {},
   "outputs": [
    {
     "data": {
      "text/plain": [
       "121"
      ]
     },
     "execution_count": 30,
     "metadata": {},
     "output_type": "execute_result"
    }
   ],
   "source": [
    "a[0].get('id')"
   ]
  },
  {
   "cell_type": "code",
   "execution_count": null,
   "id": "55b534c4",
   "metadata": {},
   "outputs": [],
   "source": []
  },
  {
   "cell_type": "code",
   "execution_count": null,
   "id": "e8a45bbb",
   "metadata": {},
   "outputs": [],
   "source": []
  },
  {
   "cell_type": "code",
   "execution_count": null,
   "id": "50e2b836",
   "metadata": {},
   "outputs": [],
   "source": []
  },
  {
   "cell_type": "code",
   "execution_count": null,
   "id": "cb4aea53",
   "metadata": {},
   "outputs": [],
   "source": []
  },
  {
   "cell_type": "code",
   "execution_count": null,
   "id": "5ad4e70d",
   "metadata": {},
   "outputs": [],
   "source": []
  },
  {
   "cell_type": "code",
   "execution_count": 22,
   "id": "22344ccf",
   "metadata": {},
   "outputs": [
    {
     "ename": "TypeError",
     "evalue": "unhashable type: 'list'",
     "output_type": "error",
     "traceback": [
      "\u001b[1;31m---------------------------------------------------------------------------\u001b[0m",
      "\u001b[1;31mTypeError\u001b[0m                                 Traceback (most recent call last)",
      "\u001b[1;32m<ipython-input-22-cf1176f6f960>\u001b[0m in \u001b[0;36m<module>\u001b[1;34m\u001b[0m\n\u001b[1;32m----> 1\u001b[1;33m s = {\n\u001b[0m\u001b[0;32m      2\u001b[0m     \u001b[1;33m[\u001b[0m\u001b[1;36m1\u001b[0m\u001b[1;33m,\u001b[0m\u001b[1;36m2\u001b[0m\u001b[1;33m]\u001b[0m\u001b[1;33m:\u001b[0m\u001b[1;34m\"nayem\"\u001b[0m\u001b[1;33m\u001b[0m\u001b[1;33m\u001b[0m\u001b[0m\n\u001b[0;32m      3\u001b[0m }\n",
      "\u001b[1;31mTypeError\u001b[0m: unhashable type: 'list'"
     ]
    }
   ],
   "source": [
    "s = {\n",
    "    [1,2]:\"nayem\"\n",
    "}"
   ]
  },
  {
   "cell_type": "code",
   "execution_count": null,
   "id": "b2858ff6",
   "metadata": {},
   "outputs": [],
   "source": []
  },
  {
   "cell_type": "code",
   "execution_count": null,
   "id": "29bb4d99",
   "metadata": {},
   "outputs": [],
   "source": []
  },
  {
   "cell_type": "code",
   "execution_count": null,
   "id": "e4167a94",
   "metadata": {},
   "outputs": [],
   "source": []
  },
  {
   "cell_type": "code",
   "execution_count": null,
   "id": "01519cc0",
   "metadata": {},
   "outputs": [],
   "source": []
  },
  {
   "cell_type": "code",
   "execution_count": null,
   "id": "a2d77841",
   "metadata": {},
   "outputs": [],
   "source": []
  },
  {
   "cell_type": "code",
   "execution_count": null,
   "id": "125a8741",
   "metadata": {},
   "outputs": [],
   "source": []
  },
  {
   "cell_type": "code",
   "execution_count": null,
   "id": "fd6604cd",
   "metadata": {},
   "outputs": [],
   "source": []
  },
  {
   "cell_type": "code",
   "execution_count": null,
   "id": "200f6501",
   "metadata": {},
   "outputs": [],
   "source": []
  },
  {
   "cell_type": "code",
   "execution_count": null,
   "id": "d7dc0344",
   "metadata": {},
   "outputs": [],
   "source": []
  }
 ],
 "metadata": {
  "kernelspec": {
   "display_name": "Python 3",
   "language": "python",
   "name": "python3"
  },
  "language_info": {
   "codemirror_mode": {
    "name": "ipython",
    "version": 3
   },
   "file_extension": ".py",
   "mimetype": "text/x-python",
   "name": "python",
   "nbconvert_exporter": "python",
   "pygments_lexer": "ipython3",
   "version": "3.9.5"
  }
 },
 "nbformat": 4,
 "nbformat_minor": 5
}
