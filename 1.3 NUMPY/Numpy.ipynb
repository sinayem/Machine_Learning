{
 "cells": [
  {
   "cell_type": "code",
   "execution_count": 2,
   "id": "644b2eb7",
   "metadata": {},
   "outputs": [],
   "source": [
    "# Import\n",
    "import numpy as np\n",
    "a = np.array([1,2,3,4,5])"
   ]
  },
  {
   "cell_type": "code",
   "execution_count": 3,
   "id": "61096cf5",
   "metadata": {},
   "outputs": [
    {
     "data": {
      "text/plain": [
       "array([1, 2, 3, 4, 5])"
      ]
     },
     "execution_count": 3,
     "metadata": {},
     "output_type": "execute_result"
    }
   ],
   "source": [
    "a"
   ]
  },
  {
   "cell_type": "code",
   "execution_count": 4,
   "id": "8bb9f3dc",
   "metadata": {},
   "outputs": [
    {
     "data": {
      "text/plain": [
       "(5,)"
      ]
     },
     "execution_count": 4,
     "metadata": {},
     "output_type": "execute_result"
    }
   ],
   "source": [
    "a.shape"
   ]
  },
  {
   "cell_type": "code",
   "execution_count": 5,
   "id": "e5c8f6b2",
   "metadata": {},
   "outputs": [],
   "source": [
    "# 2d array . ex 1\n",
    "b = np.array([[1],[2],[3]])"
   ]
  },
  {
   "cell_type": "code",
   "execution_count": 6,
   "id": "cc8e7006",
   "metadata": {},
   "outputs": [
    {
     "data": {
      "text/plain": [
       "array([[1],\n",
       "       [2],\n",
       "       [3]])"
      ]
     },
     "execution_count": 6,
     "metadata": {},
     "output_type": "execute_result"
    }
   ],
   "source": [
    "b"
   ]
  },
  {
   "cell_type": "code",
   "execution_count": 7,
   "id": "0786a7e3",
   "metadata": {},
   "outputs": [
    {
     "data": {
      "text/plain": [
       "(3, 1)"
      ]
     },
     "execution_count": 7,
     "metadata": {},
     "output_type": "execute_result"
    }
   ],
   "source": [
    "b.shape"
   ]
  },
  {
   "cell_type": "code",
   "execution_count": 8,
   "id": "8ed75372",
   "metadata": {},
   "outputs": [],
   "source": [
    "# 2 d array . ex 2\n",
    "c = np.array([[1,2,3],[4,5,6],[7,8,9]])"
   ]
  },
  {
   "cell_type": "code",
   "execution_count": 9,
   "id": "c163d14f",
   "metadata": {},
   "outputs": [
    {
     "data": {
      "text/plain": [
       "array([[1, 2, 3],\n",
       "       [4, 5, 6],\n",
       "       [7, 8, 9]])"
      ]
     },
     "execution_count": 9,
     "metadata": {},
     "output_type": "execute_result"
    }
   ],
   "source": [
    "c"
   ]
  },
  {
   "cell_type": "code",
   "execution_count": 10,
   "id": "7bb47fb8",
   "metadata": {},
   "outputs": [
    {
     "data": {
      "text/plain": [
       "(3, 3)"
      ]
     },
     "execution_count": 10,
     "metadata": {},
     "output_type": "execute_result"
    }
   ],
   "source": [
    "c.shape"
   ]
  },
  {
   "cell_type": "code",
   "execution_count": 11,
   "id": "e45741b3",
   "metadata": {},
   "outputs": [],
   "source": [
    "# create zeros,ones and custom array"
   ]
  },
  {
   "cell_type": "code",
   "execution_count": 12,
   "id": "7c25940a",
   "metadata": {},
   "outputs": [],
   "source": [
    "z = np.zeros((2,3))"
   ]
  },
  {
   "cell_type": "code",
   "execution_count": 13,
   "id": "132102bc",
   "metadata": {},
   "outputs": [
    {
     "data": {
      "text/plain": [
       "array([[0., 0., 0.],\n",
       "       [0., 0., 0.]])"
      ]
     },
     "execution_count": 13,
     "metadata": {},
     "output_type": "execute_result"
    }
   ],
   "source": [
    "z"
   ]
  },
  {
   "cell_type": "code",
   "execution_count": 14,
   "id": "35df0031",
   "metadata": {},
   "outputs": [],
   "source": [
    "o = np.ones((1,9))"
   ]
  },
  {
   "cell_type": "code",
   "execution_count": 15,
   "id": "4225fbfd",
   "metadata": {},
   "outputs": [
    {
     "data": {
      "text/plain": [
       "array([[1., 1., 1., 1., 1., 1., 1., 1., 1.]])"
      ]
     },
     "execution_count": 15,
     "metadata": {},
     "output_type": "execute_result"
    }
   ],
   "source": [
    "o"
   ]
  },
  {
   "cell_type": "code",
   "execution_count": 16,
   "id": "7af63fc9",
   "metadata": {},
   "outputs": [],
   "source": [
    "#Array of some constant\n",
    "x = np.full((3,2),7)"
   ]
  },
  {
   "cell_type": "code",
   "execution_count": 17,
   "id": "279e48b9",
   "metadata": {},
   "outputs": [
    {
     "data": {
      "text/plain": [
       "array([[7, 7],\n",
       "       [7, 7],\n",
       "       [7, 7]])"
      ]
     },
     "execution_count": 17,
     "metadata": {},
     "output_type": "execute_result"
    }
   ],
   "source": [
    "x"
   ]
  },
  {
   "cell_type": "code",
   "execution_count": 18,
   "id": "cc438694",
   "metadata": {},
   "outputs": [
    {
     "data": {
      "text/plain": [
       "array([[1., 0., 0.],\n",
       "       [0., 1., 0.],\n",
       "       [0., 0., 1.]])"
      ]
     },
     "execution_count": 18,
     "metadata": {},
     "output_type": "execute_result"
    }
   ],
   "source": [
    "# Identity matrix or square matrix\n",
    "i = np.eye(3)\n",
    "i"
   ]
  },
  {
   "cell_type": "code",
   "execution_count": 19,
   "id": "32d76523",
   "metadata": {},
   "outputs": [],
   "source": [
    "# Random array\n",
    "r = np.random.random((3,4))"
   ]
  },
  {
   "cell_type": "code",
   "execution_count": 20,
   "id": "0dd1ddc5",
   "metadata": {},
   "outputs": [
    {
     "data": {
      "text/plain": [
       "array([[0.72300034, 0.79177509, 0.65368372, 0.82905444],\n",
       "       [0.00933239, 0.75578622, 0.64481275, 0.56214988],\n",
       "       [0.04643948, 0.84261922, 0.16343157, 0.90993803]])"
      ]
     },
     "execution_count": 20,
     "metadata": {},
     "output_type": "execute_result"
    }
   ],
   "source": [
    "r"
   ]
  },
  {
   "cell_type": "code",
   "execution_count": 21,
   "id": "7d05d5e3",
   "metadata": {},
   "outputs": [
    {
     "name": "stdout",
     "output_type": "stream",
     "text": [
      "[0.65368372 0.64481275 0.16343157]\n",
      "[0.72300034 0.79177509 0.65368372 0.82905444]\n"
     ]
    }
   ],
   "source": [
    "# Let i want to access/print 3rd collumn values\n",
    "print(r[:,2])\n",
    "# Let i want to access/print 1rd row values\n",
    "print(r[0,:])"
   ]
  },
  {
   "cell_type": "code",
   "execution_count": 22,
   "id": "4e8a2d99",
   "metadata": {},
   "outputs": [
    {
     "data": {
      "text/plain": [
       "array([[0.72300034, 0.79177509, 0.65368372, 0.82905444],\n",
       "       [0.00933239, 0.75578622, 1.        , 1.        ],\n",
       "       [0.04643948, 0.84261922, 1.        , 1.        ]])"
      ]
     },
     "execution_count": 22,
     "metadata": {},
     "output_type": "execute_result"
    }
   ],
   "source": [
    "# let i want to set the random array r's 2nd and 3rd rows last 2 values as 1\n",
    "\n",
    "r[1:,2:]=1\n",
    "r"
   ]
  },
  {
   "cell_type": "code",
   "execution_count": 23,
   "id": "fa51e7ee",
   "metadata": {},
   "outputs": [],
   "source": [
    "# make a 2d array that has last col val as 7 and 2nd row val as 1\n",
    "p = np.zeros((4,5))"
   ]
  },
  {
   "cell_type": "code",
   "execution_count": 24,
   "id": "8baa9722",
   "metadata": {},
   "outputs": [
    {
     "data": {
      "text/plain": [
       "array([[0., 0., 0., 0., 0.],\n",
       "       [0., 0., 0., 0., 0.],\n",
       "       [0., 0., 0., 0., 0.],\n",
       "       [0., 0., 0., 0., 0.]])"
      ]
     },
     "execution_count": 24,
     "metadata": {},
     "output_type": "execute_result"
    }
   ],
   "source": [
    "p"
   ]
  },
  {
   "cell_type": "code",
   "execution_count": 25,
   "id": "dc711d8f",
   "metadata": {},
   "outputs": [],
   "source": [
    "p[1,:]=1\n",
    "p[:,-1]=7"
   ]
  },
  {
   "cell_type": "code",
   "execution_count": 26,
   "id": "24394f5d",
   "metadata": {},
   "outputs": [
    {
     "data": {
      "text/plain": [
       "array([[0., 0., 0., 0., 7.],\n",
       "       [1., 1., 1., 1., 7.],\n",
       "       [0., 0., 0., 0., 7.],\n",
       "       [0., 0., 0., 0., 7.]])"
      ]
     },
     "execution_count": 26,
     "metadata": {},
     "output_type": "execute_result"
    }
   ],
   "source": [
    "p"
   ]
  },
  {
   "cell_type": "code",
   "execution_count": 27,
   "id": "96275dee",
   "metadata": {},
   "outputs": [
    {
     "data": {
      "text/plain": [
       "array([[1., 1.],\n",
       "       [1., 1.]])"
      ]
     },
     "execution_count": 27,
     "metadata": {},
     "output_type": "execute_result"
    }
   ],
   "source": [
    "# dtype\n",
    "z.dtype\n",
    "# we can set datatype \n",
    "xx = np.ones((2,2),dtype=float)\n",
    "xx"
   ]
  },
  {
   "cell_type": "code",
   "execution_count": 28,
   "id": "769be492",
   "metadata": {},
   "outputs": [
    {
     "name": "stdout",
     "output_type": "stream",
     "text": [
      "[[ 6  8]\n",
      " [10 12]]\n",
      "[[ 6  8]\n",
      " [10 12]]\n"
     ]
    }
   ],
   "source": [
    "# Mathmatical operation\n",
    "a = np.array([[1,2],[3,4]])\n",
    "b = np.array([[5,6],[7,8]])\n",
    "print(a+b)\n",
    "# or \n",
    "print(np.add(a,b))"
   ]
  },
  {
   "cell_type": "code",
   "execution_count": 29,
   "id": "957c72c4",
   "metadata": {},
   "outputs": [
    {
     "name": "stdout",
     "output_type": "stream",
     "text": [
      "[[-4 -4]\n",
      " [-4 -4]]\n",
      "[[-4 -4]\n",
      " [-4 -4]]\n"
     ]
    }
   ],
   "source": [
    "# sub\n",
    "print(a-b)\n",
    "print(np.subtract(a,b))"
   ]
  },
  {
   "cell_type": "code",
   "execution_count": 30,
   "id": "fcdabb25",
   "metadata": {},
   "outputs": [
    {
     "name": "stdout",
     "output_type": "stream",
     "text": [
      "[[ 5 12]\n",
      " [21 32]]\n",
      "[[ 5 12]\n",
      " [21 32]]\n",
      "[[0.2        0.33333333]\n",
      " [0.42857143 0.5       ]]\n",
      "[[0.2        0.33333333]\n",
      " [0.42857143 0.5       ]]\n"
     ]
    }
   ],
   "source": [
    "# mul and div\n",
    "print(a*b)\n",
    "print(np.multiply(a,b))\n",
    "\n",
    "print(a/b)\n",
    "print(np.divide(a,b))"
   ]
  },
  {
   "cell_type": "code",
   "execution_count": 31,
   "id": "ca6871db",
   "metadata": {},
   "outputs": [
    {
     "name": "stdout",
     "output_type": "stream",
     "text": [
      "[[1.         1.41421356]\n",
      " [1.73205081 2.        ]]\n"
     ]
    }
   ],
   "source": [
    "# square of a matrix\n",
    "print(np.sqrt(a))"
   ]
  },
  {
   "cell_type": "code",
   "execution_count": 32,
   "id": "69c1c183",
   "metadata": {},
   "outputs": [
    {
     "name": "stdout",
     "output_type": "stream",
     "text": [
      "[[19 22]\n",
      " [43 50]]\n",
      "[[19 22]\n",
      " [43 50]]\n"
     ]
    }
   ],
   "source": [
    "# Abobe multiplication is element wise multiplication \n",
    "# Matrix multiplication / dot product\n",
    "print(a.dot(b))\n",
    "# or\n",
    "print(np.dot(a,b))"
   ]
  },
  {
   "cell_type": "code",
   "execution_count": 33,
   "id": "d626d0d7",
   "metadata": {},
   "outputs": [
    {
     "name": "stdout",
     "output_type": "stream",
     "text": [
      "70\n",
      "70\n"
     ]
    }
   ],
   "source": [
    "# Arrays Multiplication ----> scalar\n",
    "x = np.array([1,2,3,4])\n",
    "y = np.array([5,6,7,8])\n",
    "print(x.dot(y))\n",
    "print(np.dot(x,y))"
   ]
  },
  {
   "cell_type": "code",
   "execution_count": 34,
   "id": "fc247cf1",
   "metadata": {},
   "outputs": [
    {
     "name": "stdout",
     "output_type": "stream",
     "text": [
      "[4 6]\n",
      "----\n",
      "[[1 2]\n",
      " [3 4]]\n",
      "10\n",
      "----\n",
      "[4 6]\n",
      "[3 7]\n"
     ]
    }
   ],
   "source": [
    "# Sum ----np.sum() without no parameter returns single value\n",
    "# axis 0 --- col , axis 1 --- row\n",
    "x = np.array([[1,2],[3,4]])\n",
    "print(sum(x))\n",
    "\n",
    "print('----')\n",
    "\n",
    "print(x)\n",
    "print(np.sum(x))\n",
    "print('----')\n",
    "\n",
    "#col wise\n",
    "print(np.sum(x,axis=0))\n",
    "#row wise\n",
    "print(np.sum(x,axis=1))"
   ]
  },
  {
   "cell_type": "code",
   "execution_count": 35,
   "id": "c5ecebd1",
   "metadata": {},
   "outputs": [
    {
     "name": "stdout",
     "output_type": "stream",
     "text": [
      "[1 3 4 5]\n",
      "[ 1  4  9 16]\n"
     ]
    }
   ],
   "source": [
    "# stacking of arrays\n",
    "a = np.array([1,3,4,5])\n",
    "b =np.array([1,2,3,4])\n",
    "\n",
    "b = b**2\n",
    "\n",
    "print(a)\n",
    "print(b)"
   ]
  },
  {
   "cell_type": "code",
   "execution_count": 36,
   "id": "c02e67a4",
   "metadata": {},
   "outputs": [
    {
     "data": {
      "text/plain": [
       "array([[ 1,  3,  4,  5],\n",
       "       [ 1,  4,  9, 16]])"
      ]
     },
     "execution_count": 36,
     "metadata": {},
     "output_type": "execute_result"
    }
   ],
   "source": [
    "np.stack((a,b))"
   ]
  },
  {
   "cell_type": "code",
   "execution_count": 37,
   "id": "027c99ae",
   "metadata": {},
   "outputs": [
    {
     "data": {
      "text/plain": [
       "array([[ 1,  1],\n",
       "       [ 3,  4],\n",
       "       [ 4,  9],\n",
       "       [ 5, 16]])"
      ]
     },
     "execution_count": 37,
     "metadata": {},
     "output_type": "execute_result"
    }
   ],
   "source": [
    "np.stack((a,b),axis = 1)"
   ]
  },
  {
   "cell_type": "code",
   "execution_count": 38,
   "id": "73aad53d",
   "metadata": {},
   "outputs": [
    {
     "data": {
      "text/plain": [
       "array([[ 1,  1],\n",
       "       [ 3,  4],\n",
       "       [ 4,  9],\n",
       "       [ 5, 16]])"
      ]
     },
     "execution_count": 38,
     "metadata": {},
     "output_type": "execute_result"
    }
   ],
   "source": [
    "# Reshape\n",
    "e = np.stack((a,b),axis = 1)\n",
    "e"
   ]
  },
  {
   "cell_type": "code",
   "execution_count": 39,
   "id": "d662384f",
   "metadata": {},
   "outputs": [],
   "source": [
    "e = e.reshape((2,-1)) # -1 means numpy will automatically calculate  "
   ]
  },
  {
   "cell_type": "code",
   "execution_count": 40,
   "id": "27f6286a",
   "metadata": {},
   "outputs": [
    {
     "data": {
      "text/plain": [
       "array([[ 1,  1,  3,  4],\n",
       "       [ 4,  9,  5, 16]])"
      ]
     },
     "execution_count": 40,
     "metadata": {},
     "output_type": "execute_result"
    }
   ],
   "source": [
    "e"
   ]
  },
  {
   "cell_type": "code",
   "execution_count": null,
   "id": "4ba5e4fc",
   "metadata": {},
   "outputs": [],
   "source": []
  },
  {
   "cell_type": "code",
   "execution_count": 41,
   "id": "43f12347",
   "metadata": {},
   "outputs": [
    {
     "name": "stdout",
     "output_type": "stream",
     "text": [
      "[0 1 2 3 4 5 6 7 8 9]\n",
      "[ 2  3  4  5  6  7  8  9 10 11]\n"
     ]
    }
   ],
   "source": [
    "# arange --->0 to n-1 \n",
    "a = np.arange(10)\n",
    "print(a)\n",
    "# if start with any number except 0, then\n",
    "b = np.arange(10)+2\n",
    "print(b)"
   ]
  },
  {
   "cell_type": "code",
   "execution_count": null,
   "id": "32f9e6cb",
   "metadata": {},
   "outputs": [],
   "source": []
  },
  {
   "cell_type": "code",
   "execution_count": 42,
   "id": "8ef4d581",
   "metadata": {},
   "outputs": [
    {
     "name": "stdout",
     "output_type": "stream",
     "text": [
      "[ 2  3  4  5  6  7  8  9 10 11]\n",
      "[ 5  6  9  2  7 11  3  4  8 10]\n"
     ]
    }
   ],
   "source": [
    "# Some important random module function\n",
    "# shuffle--->inp arr,\n",
    "#rand-->input as shape,\n",
    "#random---> previously shown,\n",
    "#randn---> return value from standard normal distribution,\n",
    "#randint--->(x,y,n) x and y are range and n is how much num we need\n",
    "#choice---> randomly pick one element from arr\n",
    "#seed---->\n",
    "r = np.arange(10)+2\n",
    "print(r)\n",
    "np.random.shuffle(r)\n",
    "print(r)"
   ]
  },
  {
   "cell_type": "code",
   "execution_count": 43,
   "id": "6f2752a4",
   "metadata": {},
   "outputs": [],
   "source": [
    "rr = np.random.rand(4,5)"
   ]
  },
  {
   "cell_type": "code",
   "execution_count": 44,
   "id": "c6eac434",
   "metadata": {},
   "outputs": [
    {
     "data": {
      "text/plain": [
       "array([[0.19214057, 0.35723506, 0.54916162, 0.58717555, 0.4387635 ],\n",
       "       [0.04049069, 0.03542984, 0.06894438, 0.85552134, 0.3672096 ],\n",
       "       [0.22096215, 0.04462006, 0.47634779, 0.68224925, 0.09213693],\n",
       "       [0.00613627, 0.12054406, 0.49289498, 0.37151148, 0.08087292]])"
      ]
     },
     "execution_count": 44,
     "metadata": {},
     "output_type": "execute_result"
    }
   ],
   "source": [
    "rr"
   ]
  },
  {
   "cell_type": "code",
   "execution_count": 45,
   "id": "7d502a0f",
   "metadata": {},
   "outputs": [],
   "source": [
    "rrn = np.random.randn(2,3)"
   ]
  },
  {
   "cell_type": "code",
   "execution_count": 46,
   "id": "7a159b52",
   "metadata": {},
   "outputs": [
    {
     "data": {
      "text/plain": [
       "array([[ 1.81326702, -0.23958782,  1.01716405],\n",
       "       [-0.23859107, -1.56232362,  0.22195051]])"
      ]
     },
     "execution_count": 46,
     "metadata": {},
     "output_type": "execute_result"
    }
   ],
   "source": [
    "rrn"
   ]
  },
  {
   "cell_type": "code",
   "execution_count": 47,
   "id": "59b940da",
   "metadata": {},
   "outputs": [],
   "source": [
    "rin = np.random.randint(4,12,5) #4<= x <=11"
   ]
  },
  {
   "cell_type": "code",
   "execution_count": 48,
   "id": "fdf3c305",
   "metadata": {},
   "outputs": [
    {
     "data": {
      "text/plain": [
       "array([11,  7,  5,  7, 10])"
      ]
     },
     "execution_count": 48,
     "metadata": {},
     "output_type": "execute_result"
    }
   ],
   "source": [
    "rin"
   ]
  },
  {
   "cell_type": "code",
   "execution_count": 49,
   "id": "389082ac",
   "metadata": {},
   "outputs": [
    {
     "data": {
      "text/plain": [
       "5"
      ]
     },
     "execution_count": 49,
     "metadata": {},
     "output_type": "execute_result"
    }
   ],
   "source": [
    "elem = np.random.choice([1,2,3,4,5,6])\n",
    "elem"
   ]
  },
  {
   "cell_type": "code",
   "execution_count": null,
   "id": "08d1401f",
   "metadata": {},
   "outputs": [],
   "source": []
  },
  {
   "cell_type": "markdown",
   "id": "35d4544f",
   "metadata": {},
   "source": [
    "## some more numpy func - stat"
   ]
  },
  {
   "cell_type": "code",
   "execution_count": 50,
   "id": "ddd7c00c",
   "metadata": {},
   "outputs": [],
   "source": [
    "# min,max,mean,median,average,varriant,standard deviation,"
   ]
  },
  {
   "cell_type": "code",
   "execution_count": 56,
   "id": "dd285ed4",
   "metadata": {},
   "outputs": [
    {
     "name": "stdout",
     "output_type": "stream",
     "text": [
      "[[1 2 3 4]\n",
      " [3 4 5 6]]\n",
      "1\n",
      "6\n",
      "[1 2 3 4]\n",
      "[1 3]\n"
     ]
    }
   ],
   "source": [
    "a = np.array([[1,2,3,4],[3,4,5,6]])\n",
    "print(a)\n",
    "print(np.min(a))\n",
    "print(np.max(a))\n",
    "\n",
    "# axis\n",
    "print(np.min(a,axis=0)) # col wise min val\n",
    "print(np.min(a,axis=1))\n",
    "# for max exactly same as min"
   ]
  },
  {
   "cell_type": "code",
   "execution_count": 57,
   "id": "233619ac",
   "metadata": {},
   "outputs": [
    {
     "data": {
      "text/plain": [
       "array([[1, 2, 3, 4],\n",
       "       [3, 4, 5, 6]])"
      ]
     },
     "execution_count": 57,
     "metadata": {},
     "output_type": "execute_result"
    }
   ],
   "source": [
    "a"
   ]
  },
  {
   "cell_type": "code",
   "execution_count": 62,
   "id": "e58a138f",
   "metadata": {},
   "outputs": [
    {
     "name": "stdout",
     "output_type": "stream",
     "text": [
      "3.5\n",
      "3.5\n"
     ]
    }
   ],
   "source": [
    "# mean\n",
    "print(np.mean(a))\n",
    "\n",
    "x = sum(sum(a))/8\n",
    "print(x)"
   ]
  },
  {
   "cell_type": "code",
   "execution_count": 63,
   "id": "657c5d2a",
   "metadata": {},
   "outputs": [
    {
     "name": "stdout",
     "output_type": "stream",
     "text": [
      "[2.5 4.5]\n"
     ]
    }
   ],
   "source": [
    "print(np.mean(a,axis=1)) # row wise mean"
   ]
  },
  {
   "cell_type": "code",
   "execution_count": 64,
   "id": "a58b6a97",
   "metadata": {},
   "outputs": [
    {
     "data": {
      "text/plain": [
       "array([[1, 2, 3, 4],\n",
       "       [3, 4, 5, 6]])"
      ]
     },
     "execution_count": 64,
     "metadata": {},
     "output_type": "execute_result"
    }
   ],
   "source": [
    "# median\n",
    "a"
   ]
  },
  {
   "cell_type": "code",
   "execution_count": 65,
   "id": "a0eda999",
   "metadata": {},
   "outputs": [
    {
     "name": "stdout",
     "output_type": "stream",
     "text": [
      "3.5\n"
     ]
    }
   ],
   "source": [
    "print(np.median(a))"
   ]
  },
  {
   "cell_type": "code",
   "execution_count": 66,
   "id": "0224161f",
   "metadata": {},
   "outputs": [],
   "source": [
    "b = np.array([-1,2,0,8,10,11,3])"
   ]
  },
  {
   "cell_type": "code",
   "execution_count": 67,
   "id": "f41fcb3c",
   "metadata": {},
   "outputs": [
    {
     "name": "stdout",
     "output_type": "stream",
     "text": [
      "3.0\n"
     ]
    }
   ],
   "source": [
    "print(np.median(b))"
   ]
  },
  {
   "cell_type": "code",
   "execution_count": 73,
   "id": "dc77f777",
   "metadata": {},
   "outputs": [
    {
     "name": "stdout",
     "output_type": "stream",
     "text": [
      "[-1  2  0  8 10 11  3]\n",
      "6.142857142857143\n"
     ]
    }
   ],
   "source": [
    "# Average \n",
    "# we use it only calculate weight avg\n",
    "\n",
    "print(b)\n",
    "w = np.array([1,2,3,4,5,6,7])\n",
    "print(np.average(b,weights = w)) # (-1*1)+(2*2)+......+(3*7)  / 7\n",
    "#if i give weight 1 for all then it is same as mean"
   ]
  },
  {
   "cell_type": "code",
   "execution_count": null,
   "id": "2c97a0d1",
   "metadata": {},
   "outputs": [],
   "source": []
  },
  {
   "cell_type": "code",
   "execution_count": null,
   "id": "d719e1ff",
   "metadata": {},
   "outputs": [],
   "source": [
    "# Standard deviation \n",
    "# here miu is mean,N is size ,xi is each val"
   ]
  },
  {
   "attachments": {
    "image.png": {
     "image/png": "[encoded data removed]"
    }
   },
   "cell_type": "markdown",
   "id": "1c5f8436",
   "metadata": {},
   "source": [
    "![image.png](attachment:image.png)"
   ]
  },
  {
   "cell_type": "code",
   "execution_count": 74,
   "id": "f22950b3",
   "metadata": {},
   "outputs": [
    {
     "data": {
      "text/plain": [
       "array([-1,  2,  0,  8, 10, 11,  3])"
      ]
     },
     "execution_count": 74,
     "metadata": {},
     "output_type": "execute_result"
    }
   ],
   "source": [
    "b"
   ]
  },
  {
   "cell_type": "code",
   "execution_count": 75,
   "id": "fae91ef7",
   "metadata": {},
   "outputs": [
    {
     "name": "stdout",
     "output_type": "stream",
     "text": [
      "4.526565576501389\n"
     ]
    }
   ],
   "source": [
    "print(np.std(b))"
   ]
  },
  {
   "cell_type": "code",
   "execution_count": 80,
   "id": "de7ee54d",
   "metadata": {},
   "outputs": [
    {
     "name": "stdout",
     "output_type": "stream",
     "text": [
      "4.526565576501389\n"
     ]
    }
   ],
   "source": [
    "# manual\n",
    "x = np.mean(b)\n",
    "res = np.sqrt(np.mean(abs(b-x)**2))\n",
    "print(res)"
   ]
  },
  {
   "cell_type": "code",
   "execution_count": 81,
   "id": "57325232",
   "metadata": {},
   "outputs": [
    {
     "name": "stdout",
     "output_type": "stream",
     "text": [
      "20.48979591836735\n"
     ]
    }
   ],
   "source": [
    "# variance --square of sd\n",
    "print(np.var(b))"
   ]
  },
  {
   "cell_type": "code",
   "execution_count": null,
   "id": "5c5507fb",
   "metadata": {},
   "outputs": [],
   "source": []
  },
  {
   "cell_type": "code",
   "execution_count": null,
   "id": "4dbd905c",
   "metadata": {},
   "outputs": [],
   "source": []
  },
  {
   "cell_type": "code",
   "execution_count": null,
   "id": "f9f6bbad",
   "metadata": {},
   "outputs": [],
   "source": []
  },
  {
   "cell_type": "code",
   "execution_count": null,
   "id": "4614292d",
   "metadata": {},
   "outputs": [],
   "source": []
  },
  {
   "cell_type": "code",
   "execution_count": null,
   "id": "e9098c30",
   "metadata": {},
   "outputs": [],
   "source": []
  },
  {
   "cell_type": "code",
   "execution_count": null,
   "id": "3107bd51",
   "metadata": {},
   "outputs": [],
   "source": []
  }
 ],
 "metadata": {
  "kernelspec": {
   "display_name": "Python 3",
   "language": "python",
   "name": "python3"
  },
  "language_info": {
   "codemirror_mode": {
    "name": "ipython",
    "version": 3
   },
   "file_extension": ".py",
   "mimetype": "text/x-python",
   "name": "python",
   "nbconvert_exporter": "python",
   "pygments_lexer": "ipython3",
   "version": "3.9.5"
  }
 },
 "nbformat": 4,
 "nbformat_minor": 5
}
