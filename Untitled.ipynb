{
 "cells": [
  {
   "cell_type": "markdown",
   "id": "8ed9abfd",
   "metadata": {},
   "source": [
    "## this is markdown\n",
    "esc+m<br> select markdown\n",
    "esc+d+d<br> delete row\n",
    "esc + b<br> extra row (down)\n",
    "esc + a<br> extra row (up) \n",
    "< br > <br> for next line \n"
   ]
  },
  {
   "cell_type": "code",
   "execution_count": 5,
   "id": "0992f0f2",
   "metadata": {},
   "outputs": [],
   "source": [
    "def p(name):\n",
    "    print('hello {}'.format(name))"
   ]
  },
  {
   "cell_type": "code",
   "execution_count": 6,
   "id": "cad393ca",
   "metadata": {},
   "outputs": [
    {
     "name": "stdout",
     "output_type": "stream",
     "text": [
      "hello nayem\n"
     ]
    }
   ],
   "source": [
    "p('nayem')"
   ]
  },
  {
   "cell_type": "code",
   "execution_count": 12,
   "id": "2f7a8bae",
   "metadata": {},
   "outputs": [
    {
     "name": "stdout",
     "output_type": "stream",
     "text": [
      "nayem\n",
      "surid\n"
     ]
    }
   ],
   "source": [
    "users ={\n",
    "    'nayem':'Nayem1998',\n",
    "    'surid':'fuck',\n",
    "}\n",
    "for i in users:\n",
    "    print(i)"
   ]
  },
  {
   "cell_type": "code",
   "execution_count": 8,
   "id": "8c0e4cd3",
   "metadata": {},
   "outputs": [],
   "source": [
    "def login(username,password):\n",
    "    if username in users and users[username]==password:\n",
    "        print('hello world')\n",
    "    else:\n",
    "        print('Not authenticated')"
   ]
  },
  {
   "cell_type": "code",
   "execution_count": 10,
   "id": "76e80d96",
   "metadata": {},
   "outputs": [
    {
     "name": "stdout",
     "output_type": "stream",
     "text": [
      "Not authenticated\n"
     ]
    }
   ],
   "source": [
    "login('ayem','Nayem1998')"
   ]
  },
  {
   "cell_type": "code",
   "execution_count": 22,
   "id": "cde3322e",
   "metadata": {},
   "outputs": [],
   "source": [
    "def ass(a,b,*args):\n",
    "    print(*args)"
   ]
  },
  {
   "cell_type": "code",
   "execution_count": 23,
   "id": "f65a1919",
   "metadata": {},
   "outputs": [
    {
     "name": "stdout",
     "output_type": "stream",
     "text": [
      "4 6 6 5 4\n"
     ]
    }
   ],
   "source": [
    "ass('a',10,4,6,6,5,4)"
   ]
  },
  {
   "cell_type": "code",
   "execution_count": 24,
   "id": "cd211469",
   "metadata": {},
   "outputs": [
    {
     "name": "stdout",
     "output_type": "stream",
     "text": [
      "7 4\n"
     ]
    }
   ],
   "source": [
    "a=4\n",
    "b=7\n",
    "a=a+b\n",
    "b=a-b\n",
    "a=a-b\n",
    "print(a,b)"
   ]
  },
  {
   "cell_type": "code",
   "execution_count": 47,
   "id": "ba30584a",
   "metadata": {},
   "outputs": [],
   "source": [
    "s={1,2,3,4,5,6,3}\n",
    "r ={1,2,3,10}"
   ]
  },
  {
   "cell_type": "code",
   "execution_count": 48,
   "id": "a0fb1809",
   "metadata": {},
   "outputs": [],
   "source": [
    "s.add(11)"
   ]
  },
  {
   "cell_type": "markdown",
   "id": "afb25f0c",
   "metadata": {},
   "source": [
    "## Generator :<br>\n",
    "Its like a function but only difference is instead of return its use yield.<br>\n",
    "Return sends a specified value to a variable but yield can produce a sequence of values.<br>\n",
    "we use yield when we iterare over a sequenc but not store a sequence."
   ]
  },
  {
   "cell_type": "code",
   "execution_count": 55,
   "id": "b10ff412",
   "metadata": {},
   "outputs": [
    {
     "name": "stdout",
     "output_type": "stream",
     "text": [
      "Enter a number:10\n"
     ]
    }
   ],
   "source": [
    "n = int (input('Enter a number:'))"
   ]
  },
  {
   "cell_type": "code",
   "execution_count": 56,
   "id": "bf60b459",
   "metadata": {},
   "outputs": [],
   "source": [
    "def fibo():\n",
    "    a,b = 0,1\n",
    "    for _ in range(n):\n",
    "        yield a\n",
    "        a,b = b,a+b"
   ]
  },
  {
   "cell_type": "code",
   "execution_count": 57,
   "id": "9ceaef14",
   "metadata": {},
   "outputs": [],
   "source": [
    "x = fibo()"
   ]
  },
  {
   "cell_type": "code",
   "execution_count": 59,
   "id": "d27c6f7f",
   "metadata": {},
   "outputs": [
    {
     "name": "stdout",
     "output_type": "stream",
     "text": [
      "[0, 1, 1, 2, 3, 5, 8, 13, 21, 34]\n"
     ]
    }
   ],
   "source": [
    "print (list(x))"
   ]
  },
  {
   "cell_type": "markdown",
   "id": "9f875b54",
   "metadata": {},
   "source": [
    "## Decorator with simple example:<br>\n",
    "a function add which can run only when sum of paramiter is greater than 10"
   ]
  },
  {
   "cell_type": "code",
   "execution_count": 118,
   "id": "ad9587ad",
   "metadata": {},
   "outputs": [],
   "source": [
    "def dec(add):\n",
    "    def wrapper (a,b):\n",
    "        if a+b >10 :\n",
    "            return add(a,b)\n",
    "        else : \n",
    "            print( \"Not greater than 10\")\n",
    "        \n",
    "    return wrapper"
   ]
  },
  {
   "cell_type": "code",
   "execution_count": 119,
   "id": "7e70c359",
   "metadata": {},
   "outputs": [],
   "source": [
    "@dec\n",
    "def add(a,b):\n",
    "    return a+b"
   ]
  },
  {
   "cell_type": "code",
   "execution_count": 122,
   "id": "bd45c3c9",
   "metadata": {},
   "outputs": [
    {
     "data": {
      "text/plain": [
       "11"
      ]
     },
     "execution_count": 122,
     "metadata": {},
     "output_type": "execute_result"
    }
   ],
   "source": [
    "add(1,10)"
   ]
  },
  {
   "cell_type": "markdown",
   "id": "3f45dffb",
   "metadata": {},
   "source": [
    "## Class \n",
    "<br>\n",
    "####  __init__()"
   ]
  },
  {
   "cell_type": "code",
   "execution_count": 133,
   "id": "fdaff1aa",
   "metadata": {},
   "outputs": [],
   "source": [
    "class person :\n",
    "    def __init__(self,n):\n",
    "        self.name = n\n",
    "    def say_hello(self):\n",
    "        print (f\"hey i am {self.name}\")"
   ]
  },
  {
   "cell_type": "code",
   "execution_count": 141,
   "id": "298de8e8",
   "metadata": {},
   "outputs": [],
   "source": [
    "p = person('kutta')"
   ]
  },
  {
   "cell_type": "code",
   "execution_count": 142,
   "id": "7c49a4a9",
   "metadata": {},
   "outputs": [
    {
     "name": "stdout",
     "output_type": "stream",
     "text": [
      "hey i am kutta\n"
     ]
    }
   ],
   "source": [
    "p.say_hello()"
   ]
  },
  {
   "cell_type": "markdown",
   "id": "c30b3873",
   "metadata": {},
   "source": [
    "## Class Dunder Method\n",
    "<br>\n",
    "Implementation of cout<< in python with __lshift__() dunder method"
   ]
  },
  {
   "cell_type": "code",
   "execution_count": 162,
   "id": "0f4c3555",
   "metadata": {},
   "outputs": [],
   "source": [
    "class o:\n",
    "    def __lshift__(self,other):\n",
    "        print(other , end =\"\")\n",
    "        return self"
   ]
  },
  {
   "cell_type": "code",
   "execution_count": 163,
   "id": "ea5bc152",
   "metadata": {},
   "outputs": [],
   "source": [
    "cout = o()"
   ]
  },
  {
   "cell_type": "code",
   "execution_count": 164,
   "id": "69cdf2b9",
   "metadata": {},
   "outputs": [
    {
     "name": "stdout",
     "output_type": "stream",
     "text": [
      "hey"
     ]
    },
    {
     "data": {
      "text/plain": [
       "<__main__.o at 0x2640d3e8af0>"
      ]
     },
     "execution_count": 164,
     "metadata": {},
     "output_type": "execute_result"
    }
   ],
   "source": [
    "cout<< 'hey'"
   ]
  },
  {
   "cell_type": "markdown",
   "id": "5a115b04",
   "metadata": {},
   "source": [
    "Other dunder methods\n",
    "<br>\n",
    "##### __add()__ , __eq__(), __str__(),"
   ]
  },
  {
   "cell_type": "code",
   "execution_count": 170,
   "id": "402e13eb",
   "metadata": {},
   "outputs": [],
   "source": [
    "class car:\n",
    "    def __init__(self,mod,mil):\n",
    "        self.model =  mod\n",
    "        self.mileage = mil\n",
    "    def __add__(self,other):\n",
    "        return self.mileage + other.mileage\n",
    "    def __str__(self):\n",
    "        return \"{}{}\".format(self.model , self.mileage)\n",
    "    def __eq__(self,other):\n",
    "        return self.mileage == other.mileage"
   ]
  },
  {
   "cell_type": "code",
   "execution_count": 172,
   "id": "9f6cd35e",
   "metadata": {},
   "outputs": [],
   "source": [
    "a = car ('toyota',200)\n",
    "b = car('audi',200)"
   ]
  },
  {
   "cell_type": "code",
   "execution_count": 179,
   "id": "89d39faa",
   "metadata": {},
   "outputs": [
    {
     "data": {
      "text/plain": [
       "True"
      ]
     },
     "execution_count": 179,
     "metadata": {},
     "output_type": "execute_result"
    }
   ],
   "source": [
    "a.__eq__(b) #or\n",
    "a == b"
   ]
  },
  {
   "cell_type": "code",
   "execution_count": 180,
   "id": "dfba26d4",
   "metadata": {},
   "outputs": [
    {
     "data": {
      "text/plain": [
       "400"
      ]
     },
     "execution_count": 180,
     "metadata": {},
     "output_type": "execute_result"
    }
   ],
   "source": [
    "a+b"
   ]
  },
  {
   "cell_type": "code",
   "execution_count": 184,
   "id": "10864b53",
   "metadata": {},
   "outputs": [
    {
     "data": {
      "text/plain": [
       "'toyota200'"
      ]
     },
     "execution_count": 184,
     "metadata": {},
     "output_type": "execute_result"
    }
   ],
   "source": [
    "a.__str__()"
   ]
  },
  {
   "cell_type": "markdown",
   "id": "ae0bb7d2",
   "metadata": {},
   "source": [
    "####  if class have mutable ds like (list, dic, set) then this ds pointed to same memory location<br>all the instances of this class"
   ]
  },
  {
   "cell_type": "code",
   "execution_count": 218,
   "id": "f3e12316",
   "metadata": {},
   "outputs": [],
   "source": [
    "class dog:\n",
    "    tricks = []        #List \n",
    "    def __init__(self,name):\n",
    "        self.name = name \n",
    "    def add_tricks(self,a):\n",
    "        self.tricks.append(a)"
   ]
  },
  {
   "cell_type": "code",
   "execution_count": 219,
   "id": "eb65708c",
   "metadata": {},
   "outputs": [],
   "source": [
    "a = dog(\"surid\")"
   ]
  },
  {
   "cell_type": "code",
   "execution_count": 220,
   "id": "c05dc5fe",
   "metadata": {},
   "outputs": [],
   "source": [
    "a.add_tricks(\"fetch\")\n",
    "a.add_tricks(\"jump\")"
   ]
  },
  {
   "cell_type": "code",
   "execution_count": 221,
   "id": "fe6c6a29",
   "metadata": {},
   "outputs": [
    {
     "data": {
      "text/plain": [
       "['fetch', 'jump']"
      ]
     },
     "execution_count": 221,
     "metadata": {},
     "output_type": "execute_result"
    }
   ],
   "source": [
    "a.tricks"
   ]
  },
  {
   "cell_type": "code",
   "execution_count": 222,
   "id": "e24426a6",
   "metadata": {},
   "outputs": [],
   "source": [
    "b = dog('tamin')"
   ]
  },
  {
   "cell_type": "code",
   "execution_count": 223,
   "id": "881f4ab7",
   "metadata": {},
   "outputs": [
    {
     "data": {
      "text/plain": [
       "['fetch', 'jump']"
      ]
     },
     "execution_count": 223,
     "metadata": {},
     "output_type": "execute_result"
    }
   ],
   "source": [
    "b.tricks"
   ]
  },
  {
   "cell_type": "code",
   "execution_count": 224,
   "id": "3cc93ade",
   "metadata": {},
   "outputs": [
    {
     "data": {
      "text/plain": [
       "2628743294400"
      ]
     },
     "execution_count": 224,
     "metadata": {},
     "output_type": "execute_result"
    }
   ],
   "source": [
    "id(a.tricks) # address int form"
   ]
  },
  {
   "cell_type": "code",
   "execution_count": 225,
   "id": "912ca960",
   "metadata": {},
   "outputs": [
    {
     "data": {
      "text/plain": [
       "2628743294400"
      ]
     },
     "execution_count": 225,
     "metadata": {},
     "output_type": "execute_result"
    }
   ],
   "source": [
    "id(b.tricks)"
   ]
  },
  {
   "cell_type": "code",
   "execution_count": 244,
   "id": "e98571d4",
   "metadata": {},
   "outputs": [],
   "source": [
    "class dog:   \n",
    "    def __init__(self,name):\n",
    "        self.name = name \n",
    "        self.tricks = []\n",
    "    def add_tricks(self,a):\n",
    "        self.tricks.append(a)"
   ]
  },
  {
   "cell_type": "code",
   "execution_count": 245,
   "id": "52e0027c",
   "metadata": {},
   "outputs": [],
   "source": [
    "a = dog('yefty')"
   ]
  },
  {
   "cell_type": "code",
   "execution_count": 246,
   "id": "505eaacb",
   "metadata": {},
   "outputs": [],
   "source": [
    "a.tricks\n",
    "a.add_tricks('walking')"
   ]
  },
  {
   "cell_type": "code",
   "execution_count": 247,
   "id": "db89faa7",
   "metadata": {},
   "outputs": [],
   "source": [
    "b = dog('shuvo')"
   ]
  },
  {
   "cell_type": "code",
   "execution_count": 248,
   "id": "35430016",
   "metadata": {},
   "outputs": [],
   "source": [
    "b.add_tricks('peeing')"
   ]
  },
  {
   "cell_type": "code",
   "execution_count": 249,
   "id": "8075d0aa",
   "metadata": {},
   "outputs": [
    {
     "data": {
      "text/plain": [
       "['walking']"
      ]
     },
     "execution_count": 249,
     "metadata": {},
     "output_type": "execute_result"
    }
   ],
   "source": [
    "a.tricks"
   ]
  },
  {
   "cell_type": "code",
   "execution_count": 250,
   "id": "49c344f1",
   "metadata": {},
   "outputs": [
    {
     "data": {
      "text/plain": [
       "['peeing']"
      ]
     },
     "execution_count": 250,
     "metadata": {},
     "output_type": "execute_result"
    }
   ],
   "source": [
    "b.tricks"
   ]
  },
  {
   "cell_type": "code",
   "execution_count": 255,
   "id": "2e8db551",
   "metadata": {},
   "outputs": [
    {
     "data": {
      "text/plain": [
       "2628743284544"
      ]
     },
     "execution_count": 255,
     "metadata": {},
     "output_type": "execute_result"
    }
   ],
   "source": [
    "id(a.tricks)"
   ]
  },
  {
   "cell_type": "code",
   "execution_count": 256,
   "id": "6e335fd8",
   "metadata": {},
   "outputs": [
    {
     "data": {
      "text/plain": [
       "2628743639360"
      ]
     },
     "execution_count": 256,
     "metadata": {},
     "output_type": "execute_result"
    }
   ],
   "source": [
    "id(b.tricks)"
   ]
  },
  {
   "cell_type": "markdown",
   "id": "2ad9793e",
   "metadata": {},
   "source": [
    "## Inheritance "
   ]
  },
  {
   "cell_type": "code",
   "execution_count": 257,
   "id": "435edf57",
   "metadata": {},
   "outputs": [],
   "source": [
    "class school_member:                # Base class\n",
    "    def __init__(self,name,age):\n",
    "        self.name = name\n",
    "        self.age = age\n",
    "    def tell(self):\n",
    "        print (f\"{self.name} and {self.age}\")"
   ]
  },
  {
   "cell_type": "code",
   "execution_count": 258,
   "id": "959f0741",
   "metadata": {},
   "outputs": [],
   "source": [
    "gen = school_member(\"nayem\",20)"
   ]
  },
  {
   "cell_type": "code",
   "execution_count": 259,
   "id": "4b2dc627",
   "metadata": {},
   "outputs": [
    {
     "name": "stdout",
     "output_type": "stream",
     "text": [
      "nayem and 20\n"
     ]
    }
   ],
   "source": [
    "gen.tell()"
   ]
  },
  {
   "cell_type": "code",
   "execution_count": 272,
   "id": "7e045f9f",
   "metadata": {},
   "outputs": [],
   "source": [
    "class teacher(school_member):\n",
    "    def __init__(self,name,age,sal):\n",
    "        super().__init__(name,age)      #super means base\n",
    "        self.salary = sal\n",
    "    def tell(self):\n",
    "        super().tell()\n",
    "        print(self.salary)"
   ]
  },
  {
   "cell_type": "code",
   "execution_count": 273,
   "id": "fb1fa56d",
   "metadata": {},
   "outputs": [],
   "source": [
    "sir1 = teacher('nagin',69,20000)"
   ]
  },
  {
   "cell_type": "code",
   "execution_count": 274,
   "id": "7c814adf",
   "metadata": {},
   "outputs": [
    {
     "name": "stdout",
     "output_type": "stream",
     "text": [
      "nagin and 69\n",
      "20000\n"
     ]
    }
   ],
   "source": [
    "sir1.tell()\n"
   ]
  },
  {
   "cell_type": "markdown",
   "id": "34b0dd38",
   "metadata": {},
   "source": [
    "## c3 linearization \n",
    "when 1 class inheritated from 2 or more class then this ambiguity happens<br>\n",
    "rule is when i traversed a node i can do it if all the child node is traversed"
   ]
  },
  {
   "cell_type": "markdown",
   "id": "b2c4246c",
   "metadata": {},
   "source": [
    "                 A\n",
    "               ^   ^\n",
    "             B        C\n",
    "            |         ^\n",
    "            \\ .        D\n",
    "            .  .      ^\n",
    "                  E   \n"
   ]
  },
  {
   "cell_type": "code",
   "execution_count": 2,
   "id": "3fbaba23",
   "metadata": {},
   "outputs": [],
   "source": [
    "class A :\n",
    "    x = 10 \n",
    "    pass\n",
    "class B(A) :\n",
    "    pass\n",
    "class C (A) :\n",
    "    pass\n",
    "class D (C) :\n",
    "    x = 5\n",
    "    pass\n",
    "class E (B,D) :\n",
    "    pass"
   ]
  },
  {
   "cell_type": "code",
   "execution_count": 3,
   "id": "60bcd076",
   "metadata": {},
   "outputs": [
    {
     "data": {
      "text/plain": [
       "5"
      ]
     },
     "execution_count": 3,
     "metadata": {},
     "output_type": "execute_result"
    }
   ],
   "source": [
    "E.x"
   ]
  },
  {
   "cell_type": "code",
   "execution_count": 6,
   "id": "0f8f5e39",
   "metadata": {},
   "outputs": [
    {
     "data": {
      "text/plain": [
       "'__main__'"
      ]
     },
     "execution_count": 6,
     "metadata": {},
     "output_type": "execute_result"
    }
   ],
   "source": [
    "\n",
    "__name__"
   ]
  },
  {
   "cell_type": "markdown",
   "id": "05be3e78",
   "metadata": {},
   "source": [
    "### module,package\n",
    "\n"
   ]
  },
  {
   "cell_type": "code",
   "execution_count": null,
   "id": "16cd1ca2",
   "metadata": {},
   "outputs": [],
   "source": []
  },
  {
   "cell_type": "code",
   "execution_count": null,
   "id": "8b7d78ad",
   "metadata": {},
   "outputs": [],
   "source": []
  },
  {
   "cell_type": "markdown",
   "id": "6c1f441b",
   "metadata": {},
   "source": [
    "### File handling \n",
    "- 1\n",
    "    - file = open(\"abc.txt\",\"r\")\n",
    "    - file.read()\n",
    "    - file.read(5)\n",
    "    - file.readline/s()\n",
    "    - file.close()\n",
    "    - file = open(\"new.txt\",\"w\")\n",
    "    - file.write(\"hey bro\")\n",
    "    - file.close\n",
    "    - file.seek(0) cursor pointing to first\n",
    "    - file.name \n",
    "- 2\n",
    "    - with (\"abcd.txt\",'r') as file:\n",
    "        - print (file.read())"
   ]
  },
  {
   "cell_type": "code",
   "execution_count": null,
   "id": "f8246d7f",
   "metadata": {},
   "outputs": [],
   "source": []
  },
  {
   "cell_type": "code",
   "execution_count": null,
   "id": "d2f45dd5",
   "metadata": {},
   "outputs": [],
   "source": []
  },
  {
   "cell_type": "code",
   "execution_count": null,
   "id": "acad755e",
   "metadata": {},
   "outputs": [],
   "source": []
  },
  {
   "cell_type": "markdown",
   "id": "41d26a46",
   "metadata": {},
   "source": [
    "### Json and Error Handling\n",
    "json<br>\n",
    "- json.load/s\n",
    "- json.dump/s\n",
    "\n",
    "Error Handling<br>\n",
    "- 1)\n",
    "    - try\n",
    "    - except\n",
    "- 2)\n",
    "    - else : when the try block didnot threw any error then it is execute \n",
    "    - finally : always execute"
   ]
  },
  {
   "cell_type": "code",
   "execution_count": null,
   "id": "d08115cf",
   "metadata": {},
   "outputs": [],
   "source": []
  },
  {
   "cell_type": "code",
   "execution_count": null,
   "id": "588246de",
   "metadata": {},
   "outputs": [],
   "source": []
  },
  {
   "cell_type": "code",
   "execution_count": 7,
   "id": "4dfd916b",
   "metadata": {},
   "outputs": [],
   "source": [
    "def div(a,b):\n",
    "    try:\n",
    "        print (a/b)\n",
    "    except:\n",
    "        print(\"hobe na bara\")"
   ]
  },
  {
   "cell_type": "code",
   "execution_count": 9,
   "id": "cb4dcbce",
   "metadata": {},
   "outputs": [
    {
     "name": "stdout",
     "output_type": "stream",
     "text": [
      "hobe na bara\n"
     ]
    }
   ],
   "source": [
    "div(1,0)"
   ]
  },
  {
   "cell_type": "markdown",
   "id": "dc18fa1c",
   "metadata": {},
   "source": [
    "## Iteration protocol and Genarators"
   ]
  },
  {
   "cell_type": "code",
   "execution_count": null,
   "id": "3a670ae7",
   "metadata": {},
   "outputs": [],
   "source": []
  },
  {
   "cell_type": "markdown",
   "id": "3978de1e",
   "metadata": {},
   "source": [
    "# Asynchronous Programming"
   ]
  },
  {
   "cell_type": "code",
   "execution_count": null,
   "id": "1df5c776",
   "metadata": {},
   "outputs": [],
   "source": []
  },
  {
   "cell_type": "markdown",
   "id": "980e6c66",
   "metadata": {},
   "source": [
    "# Numpy"
   ]
  },
  {
   "cell_type": "code",
   "execution_count": null,
   "id": "c89f6f04",
   "metadata": {},
   "outputs": [],
   "source": []
  },
  {
   "cell_type": "markdown",
   "id": "7bffe383",
   "metadata": {},
   "source": [
    "# Linear Algebra"
   ]
  },
  {
   "cell_type": "code",
   "execution_count": null,
   "id": "d3ba82e8",
   "metadata": {},
   "outputs": [],
   "source": []
  },
  {
   "cell_type": "markdown",
   "id": "d68edca4",
   "metadata": {},
   "source": [
    "# Data Visualisation"
   ]
  },
  {
   "cell_type": "code",
   "execution_count": null,
   "id": "ec50d751",
   "metadata": {},
   "outputs": [],
   "source": []
  },
  {
   "cell_type": "markdown",
   "id": "95b77b04",
   "metadata": {},
   "source": [
    "# Seaborn"
   ]
  },
  {
   "cell_type": "code",
   "execution_count": 2,
   "id": "d9e95302",
   "metadata": {},
   "outputs": [],
   "source": [
    "import seaborn as sns"
   ]
  },
  {
   "cell_type": "code",
   "execution_count": 3,
   "id": "7b5ee939",
   "metadata": {},
   "outputs": [],
   "source": [
    "tips = sns.load_dataset('tips') #Tips is a data set that already available on online"
   ]
  },
  {
   "cell_type": "code",
   "execution_count": 4,
   "id": "2223aad1",
   "metadata": {},
   "outputs": [
    {
     "name": "stdout",
     "output_type": "stream",
     "text": [
      "     total_bill   tip     sex smoker   day    time  size\n",
      "0         16.99  1.01  Female     No   Sun  Dinner     2\n",
      "1         10.34  1.66    Male     No   Sun  Dinner     3\n",
      "2         21.01  3.50    Male     No   Sun  Dinner     3\n",
      "3         23.68  3.31    Male     No   Sun  Dinner     2\n",
      "4         24.59  3.61  Female     No   Sun  Dinner     4\n",
      "..          ...   ...     ...    ...   ...     ...   ...\n",
      "239       29.03  5.92    Male     No   Sat  Dinner     3\n",
      "240       27.18  2.00  Female    Yes   Sat  Dinner     2\n",
      "241       22.67  2.00    Male    Yes   Sat  Dinner     2\n",
      "242       17.82  1.75    Male     No   Sat  Dinner     2\n",
      "243       18.78  3.00  Female     No  Thur  Dinner     2\n",
      "\n",
      "[244 rows x 7 columns]\n"
     ]
    }
   ],
   "source": [
    "print(tips)"
   ]
  },
  {
   "cell_type": "code",
   "execution_count": 5,
   "id": "74e6bfa3",
   "metadata": {},
   "outputs": [
    {
     "data": {
      "text/plain": [
       "<AxesSubplot:xlabel='sex', ylabel='total_bill'>"
      ]
     },
     "execution_count": 5,
     "metadata": {},
     "output_type": "execute_result"
    },
    {
     "data": {
      "image/png": "[encoded data removed]",
      "text/plain": [
       "<Figure size 432x288 with 1 Axes>"
      ]
     },
     "metadata": {
      "needs_background": "light"
     },
     "output_type": "display_data"
    }
   ],
   "source": [
    "#Bar Ploat\n",
    "sns.barplot(x='sex',y='total_bill',data=tips) # Mean output"
   ]
  },
  {
   "cell_type": "code",
   "execution_count": 6,
   "id": "a906d8d5",
   "metadata": {},
   "outputs": [
    {
     "data": {
      "text/plain": [
       "<AxesSubplot:xlabel='sex', ylabel='total_bill'>"
      ]
     },
     "execution_count": 6,
     "metadata": {},
     "output_type": "execute_result"
    },
    {
     "data": {
      "image/png": "[encoded data removed]",
      "text/plain": [
       "<Figure size 432x288 with 1 Axes>"
      ]
     },
     "metadata": {
      "needs_background": "light"
     },
     "output_type": "display_data"
    }
   ],
   "source": [
    "#Bar Ploat\n",
    "import numpy as np\n",
    "sns.barplot(x='sex',y='total_bill',data=tips,estimator = np.std) # std output\n"
   ]
  },
  {
   "cell_type": "code",
   "execution_count": 7,
   "id": "1971d3a5",
   "metadata": {},
   "outputs": [
    {
     "data": {
      "text/plain": [
       "<AxesSubplot:xlabel='sex', ylabel='count'>"
      ]
     },
     "execution_count": 7,
     "metadata": {},
     "output_type": "execute_result"
    },
    {
     "data": {
      "image/png": "[encoded data removed]",
      "text/plain": [
       "<Figure size 432x288 with 1 Axes>"
      ]
     },
     "metadata": {
      "needs_background": "light"
     },
     "output_type": "display_data"
    }
   ],
   "source": [
    "#count plot\n",
    "sns.countplot(x='sex',data=tips)"
   ]
  },
  {
   "cell_type": "code",
   "execution_count": 8,
   "id": "46d6c8d8",
   "metadata": {},
   "outputs": [
    {
     "data": {
      "text/plain": [
       "<AxesSubplot:xlabel='day', ylabel='total_bill'>"
      ]
     },
     "execution_count": 8,
     "metadata": {},
     "output_type": "execute_result"
    },
    {
     "data": {
      "image/png": "[encoded data removed]",
      "text/plain": [
       "<Figure size 432x288 with 1 Axes>"
      ]
     },
     "metadata": {
      "needs_background": "light"
     },
     "output_type": "display_data"
    }
   ],
   "source": [
    "#Box plot\n",
    "sns.boxplot(x='day',y='total_bill',data=tips)"
   ]
  },
  {
   "cell_type": "markdown",
   "id": "1e2c5a1f",
   "metadata": {},
   "source": [
    "        ^           > Outler\n",
    "          ^\n",
    "        -----       > Upper value\n",
    "          |\n",
    "          |\n",
    "      |-------|    \n",
    "      |_______|     } Most of the data lies between this area\n",
    "          |\n",
    "          |\n",
    "        -----       > lower value"
   ]
  },
  {
   "cell_type": "code",
   "execution_count": 11,
   "id": "de3704dc",
   "metadata": {},
   "outputs": [
    {
     "data": {
      "text/plain": [
       "<AxesSubplot:xlabel='day', ylabel='total_bill'>"
      ]
     },
     "execution_count": 11,
     "metadata": {},
     "output_type": "execute_result"
    },
    {
     "data": {
      "image/png": "[encoded data removed]",
      "text/plain": [
       "<Figure size 432x288 with 1 Axes>"
      ]
     },
     "metadata": {
      "needs_background": "light"
     },
     "output_type": "display_data"
    }
   ],
   "source": [
    "# use hue parameter to understand different view\n",
    "sns.boxplot(x='day',y='total_bill',data=tips,hue='sex')"
   ]
  },
  {
   "cell_type": "code",
   "execution_count": 15,
   "id": "49d77393",
   "metadata": {},
   "outputs": [
    {
     "data": {
      "text/plain": [
       "<AxesSubplot:xlabel='day', ylabel='total_bill'>"
      ]
     },
     "execution_count": 15,
     "metadata": {},
     "output_type": "execute_result"
    },
    {
     "data": {
      "image/png": "[encoded data removed]",
      "text/plain": [
       "<Figure size 432x288 with 1 Axes>"
      ]
     },
     "metadata": {
      "needs_background": "light"
     },
     "output_type": "display_data"
    }
   ],
   "source": [
    "sns.boxplot(x='day',y='total_bill',data=tips,hue='smoker')"
   ]
  },
  {
   "cell_type": "code",
   "execution_count": 18,
   "id": "47c1f61b",
   "metadata": {},
   "outputs": [
    {
     "data": {
      "text/plain": [
       "<AxesSubplot:xlabel='day', ylabel='total_bill'>"
      ]
     },
     "execution_count": 18,
     "metadata": {},
     "output_type": "execute_result"
    },
    {
     "data": {
      "image/png": "[encoded data removed]",
      "text/plain": [
       "<Figure size 432x288 with 1 Axes>"
      ]
     },
     "metadata": {
      "needs_background": "light"
     },
     "output_type": "display_data"
    }
   ],
   "source": [
    "#voilin plot\n",
    "sns.violinplot(x='day',y='total_bill',data=tips,hue='sex',split=True)\n",
    "#split data by mail and female"
   ]
  },
  {
   "cell_type": "code",
   "execution_count": 19,
   "id": "e2170314",
   "metadata": {},
   "outputs": [
    {
     "name": "stderr",
     "output_type": "stream",
     "text": [
      "c:\\users\\nayem\\appdata\\local\\programs\\python\\python39\\lib\\site-packages\\seaborn\\distributions.py:2557: FutureWarning: `distplot` is a deprecated function and will be removed in a future version. Please adapt your code to use either `displot` (a figure-level function with similar flexibility) or `histplot` (an axes-level function for histograms).\n",
      "  warnings.warn(msg, FutureWarning)\n"
     ]
    },
    {
     "data": {
      "text/plain": [
       "<AxesSubplot:xlabel='total_bill', ylabel='Density'>"
      ]
     },
     "execution_count": 19,
     "metadata": {},
     "output_type": "execute_result"
    },
    {
     "data": {
      "image/png": "[encoded data removed]",
      "text/plain": [
       "<Figure size 432x288 with 1 Axes>"
      ]
     },
     "metadata": {
      "needs_background": "light"
     },
     "output_type": "display_data"
    }
   ],
   "source": [
    "#Distribution plot \n",
    "# one var (how spread the var is)\n",
    "sns.distplot(tips['total_bill'])"
   ]
  },
  {
   "cell_type": "code",
   "execution_count": 32,
   "id": "344da1b3",
   "metadata": {},
   "outputs": [
    {
     "name": "stderr",
     "output_type": "stream",
     "text": [
      "c:\\users\\nayem\\appdata\\local\\programs\\python\\python39\\lib\\site-packages\\seaborn\\distributions.py:2557: FutureWarning: `distplot` is a deprecated function and will be removed in a future version. Please adapt your code to use either `displot` (a figure-level function with similar flexibility) or `histplot` (an axes-level function for histograms).\n",
      "  warnings.warn(msg, FutureWarning)\n"
     ]
    },
    {
     "data": {
      "text/plain": [
       "<AxesSubplot:xlabel='total_bill'>"
      ]
     },
     "execution_count": 32,
     "metadata": {},
     "output_type": "execute_result"
    },
    {
     "data": {
      "image/png": "[encoded data removed]",
      "text/plain": [
       "<Figure size 432x288 with 1 Axes>"
      ]
     },
     "metadata": {
      "needs_background": "light"
     },
     "output_type": "display_data"
    }
   ],
   "source": [
    "sns.distplot(tips['total_bill'],kde = False,bins = 30)\n",
    "#bins means number of bar\n",
    "#kde means  line \n",
    "#10-20 almost 20-25% value"
   ]
  },
  {
   "cell_type": "code",
   "execution_count": 33,
   "id": "2b5f80b9",
   "metadata": {},
   "outputs": [
    {
     "data": {
      "text/plain": [
       "<AxesSubplot:xlabel='tip', ylabel='Density'>"
      ]
     },
     "execution_count": 33,
     "metadata": {},
     "output_type": "execute_result"
    },
    {
     "data": {
      "image/png": "[encoded data removed]",
      "text/plain": [
       "<Figure size 432x288 with 1 Axes>"
      ]
     },
     "metadata": {
      "needs_background": "light"
     },
     "output_type": "display_data"
    }
   ],
   "source": [
    "sns.distplot(tips['tip'])"
   ]
  },
  {
   "cell_type": "code",
   "execution_count": 34,
   "id": "33e01d7f",
   "metadata": {},
   "outputs": [
    {
     "data": {
      "text/plain": [
       "<AxesSubplot:xlabel='total_bill', ylabel='Density'>"
      ]
     },
     "execution_count": 34,
     "metadata": {},
     "output_type": "execute_result"
    },
    {
     "data": {
      "image/png": "[encoded data removed]",
      "text/plain": [
       "<Figure size 432x288 with 1 Axes>"
      ]
     },
     "metadata": {
      "needs_background": "light"
     },
     "output_type": "display_data"
    }
   ],
   "source": [
    "#Kde plot\n",
    "sns.kdeplot(tips['total_bill'])"
   ]
  },
  {
   "cell_type": "code",
   "execution_count": 36,
   "id": "c3239b5c",
   "metadata": {},
   "outputs": [
    {
     "data": {
      "text/plain": [
       "<seaborn.axisgrid.JointGrid at 0x15b3fc12550>"
      ]
     },
     "execution_count": 36,
     "metadata": {},
     "output_type": "execute_result"
    },
    {
     "data": {
      "image/png": "[encoded data removed]",
      "text/plain": [
       "<Figure size 432x432 with 3 Axes>"
      ]
     },
     "metadata": {
      "needs_background": "light"
     },
     "output_type": "display_data"
    }
   ],
   "source": [
    "#joint plot\n",
    "# 2 var\n",
    "# distribution \n",
    "sns.jointplot(x='total_bill',y='tip',data=tips)"
   ]
  },
  {
   "cell_type": "code",
   "execution_count": 42,
   "id": "f5a19f4a",
   "metadata": {},
   "outputs": [
    {
     "data": {
      "text/plain": [
       "<seaborn.axisgrid.JointGrid at 0x15b3fc26310>"
      ]
     },
     "execution_count": 42,
     "metadata": {},
     "output_type": "execute_result"
    },
    {
     "data": {
      "image/png": "[encoded data removed]",
      "text/plain": [
       "<Figure size 432x432 with 3 Axes>"
      ]
     },
     "metadata": {
      "needs_background": "light"
     },
     "output_type": "display_data"
    }
   ],
   "source": [
    "# kind what type of graph by default scatter plot(hex,kde,reg)\n",
    "sns.jointplot(x='total_bill',y='tip',data=tips,kind='reg')"
   ]
  },
  {
   "cell_type": "code",
   "execution_count": 45,
   "id": "5e7db4cf",
   "metadata": {},
   "outputs": [
    {
     "data": {
      "text/plain": [
       "<seaborn.axisgrid.PairGrid at 0x15b411e3790>"
      ]
     },
     "execution_count": 45,
     "metadata": {},
     "output_type": "execute_result"
    },
    {
     "data": {
      "image/png": "[encoded data removed]",
      "text/plain": [
       "<Figure size 540x540 with 12 Axes>"
      ]
     },
     "metadata": {
      "needs_background": "light"
     },
     "output_type": "display_data"
    }
   ],
   "source": [
    "#Pair plot \n",
    "# it takes the whole dataset\n",
    "sns.pairplot(tips)"
   ]
  },
  {
   "cell_type": "code",
   "execution_count": 46,
   "id": "0e4a455f",
   "metadata": {},
   "outputs": [
    {
     "data": {
      "text/plain": [
       "<seaborn.axisgrid.PairGrid at 0x15b42502b20>"
      ]
     },
     "execution_count": 46,
     "metadata": {},
     "output_type": "execute_result"
    },
    {
     "data": {
      "image/png": "[encoded data removed]",
      "text/plain": [
       "<Figure size 612.125x540 with 12 Axes>"
      ]
     },
     "metadata": {
      "needs_background": "light"
     },
     "output_type": "display_data"
    }
   ],
   "source": [
    "sns.pairplot(tips,hue='sex')"
   ]
  },
  {
   "cell_type": "code",
   "execution_count": 47,
   "id": "426483f1",
   "metadata": {},
   "outputs": [],
   "source": [
    "# corr() function it takes only numerical data and return such a table that has both variable\n",
    "# in column and row"
   ]
  },
  {
   "cell_type": "code",
   "execution_count": 48,
   "id": "cb4db94f",
   "metadata": {},
   "outputs": [
    {
     "data": {
      "text/html": [
       "<div>\n",
       "<style scoped>\n",
       "    .dataframe tbody tr th:only-of-type {\n",
       "        vertical-align: middle;\n",
       "    }\n",
       "\n",
       "    .dataframe tbody tr th {\n",
       "        vertical-align: top;\n",
       "    }\n",
       "\n",
       "    .dataframe thead th {\n",
       "        text-align: right;\n",
       "    }\n",
       "</style>\n",
       "<table border=\"1\" class=\"dataframe\">\n",
       "  <thead>\n",
       "    <tr style=\"text-align: right;\">\n",
       "      <th></th>\n",
       "      <th>total_bill</th>\n",
       "      <th>tip</th>\n",
       "      <th>size</th>\n",
       "    </tr>\n",
       "  </thead>\n",
       "  <tbody>\n",
       "    <tr>\n",
       "      <th>total_bill</th>\n",
       "      <td>1.000000</td>\n",
       "      <td>0.675734</td>\n",
       "      <td>0.598315</td>\n",
       "    </tr>\n",
       "    <tr>\n",
       "      <th>tip</th>\n",
       "      <td>0.675734</td>\n",
       "      <td>1.000000</td>\n",
       "      <td>0.489299</td>\n",
       "    </tr>\n",
       "    <tr>\n",
       "      <th>size</th>\n",
       "      <td>0.598315</td>\n",
       "      <td>0.489299</td>\n",
       "      <td>1.000000</td>\n",
       "    </tr>\n",
       "  </tbody>\n",
       "</table>\n",
       "</div>"
      ],
      "text/plain": [
       "            total_bill       tip      size\n",
       "total_bill    1.000000  0.675734  0.598315\n",
       "tip           0.675734  1.000000  0.489299\n",
       "size          0.598315  0.489299  1.000000"
      ]
     },
     "execution_count": 48,
     "metadata": {},
     "output_type": "execute_result"
    }
   ],
   "source": [
    "tips.corr()"
   ]
  },
  {
   "cell_type": "code",
   "execution_count": null,
   "id": "7bc192be",
   "metadata": {},
   "outputs": [],
   "source": [
    "# total bill in row and column are the same so they are totally co related so 1\n",
    "# relation value can be -1 when one var is reversly dependent with other var(reality ta pabo na)"
   ]
  },
  {
   "cell_type": "code",
   "execution_count": 50,
   "id": "027d4136",
   "metadata": {},
   "outputs": [
    {
     "data": {
      "text/plain": [
       "<AxesSubplot:>"
      ]
     },
     "execution_count": 50,
     "metadata": {},
     "output_type": "execute_result"
    },
    {
     "data": {
      "image/png": "[encoded data removed]",
      "text/plain": [
       "<Figure size 432x288 with 2 Axes>"
      ]
     },
     "metadata": {
      "needs_background": "light"
     },
     "output_type": "display_data"
    }
   ],
   "source": [
    "#why we need such row column var type table ?\n",
    "#ans: We can draw heat map\n",
    "#Heat map\n",
    "#annot=True (display number)\n",
    "sns.heatmap(tips.corr())"
   ]
  },
  {
   "cell_type": "code",
   "execution_count": 51,
   "id": "5585f3d5",
   "metadata": {},
   "outputs": [],
   "source": [
    "# when it is useful to use corr() ? say i have a dataset that has height is cm and m.\n",
    "# if we use corr() with total table then we can easily eleminate one of the value."
   ]
  },
  {
   "cell_type": "code",
   "execution_count": 53,
   "id": "5538c8fa",
   "metadata": {},
   "outputs": [],
   "source": [
    "#pivot_table\n",
    "# row col var\n",
    "x=tips.pivot_table(index='day',columns='sex',values='total_bill')"
   ]
  },
  {
   "cell_type": "code",
   "execution_count": 54,
   "id": "53830c7a",
   "metadata": {},
   "outputs": [
    {
     "data": {
      "text/html": [
       "<div>\n",
       "<style scoped>\n",
       "    .dataframe tbody tr th:only-of-type {\n",
       "        vertical-align: middle;\n",
       "    }\n",
       "\n",
       "    .dataframe tbody tr th {\n",
       "        vertical-align: top;\n",
       "    }\n",
       "\n",
       "    .dataframe thead th {\n",
       "        text-align: right;\n",
       "    }\n",
       "</style>\n",
       "<table border=\"1\" class=\"dataframe\">\n",
       "  <thead>\n",
       "    <tr style=\"text-align: right;\">\n",
       "      <th>sex</th>\n",
       "      <th>Male</th>\n",
       "      <th>Female</th>\n",
       "    </tr>\n",
       "    <tr>\n",
       "      <th>day</th>\n",
       "      <th></th>\n",
       "      <th></th>\n",
       "    </tr>\n",
       "  </thead>\n",
       "  <tbody>\n",
       "    <tr>\n",
       "      <th>Thur</th>\n",
       "      <td>18.714667</td>\n",
       "      <td>16.715312</td>\n",
       "    </tr>\n",
       "    <tr>\n",
       "      <th>Fri</th>\n",
       "      <td>19.857000</td>\n",
       "      <td>14.145556</td>\n",
       "    </tr>\n",
       "    <tr>\n",
       "      <th>Sat</th>\n",
       "      <td>20.802542</td>\n",
       "      <td>19.680357</td>\n",
       "    </tr>\n",
       "    <tr>\n",
       "      <th>Sun</th>\n",
       "      <td>21.887241</td>\n",
       "      <td>19.872222</td>\n",
       "    </tr>\n",
       "  </tbody>\n",
       "</table>\n",
       "</div>"
      ],
      "text/plain": [
       "sex        Male     Female\n",
       "day                       \n",
       "Thur  18.714667  16.715312\n",
       "Fri   19.857000  14.145556\n",
       "Sat   20.802542  19.680357\n",
       "Sun   21.887241  19.872222"
      ]
     },
     "execution_count": 54,
     "metadata": {},
     "output_type": "execute_result"
    }
   ],
   "source": [
    "x"
   ]
  },
  {
   "cell_type": "code",
   "execution_count": 59,
   "id": "cc941fed",
   "metadata": {},
   "outputs": [
    {
     "data": {
      "text/plain": [
       "<AxesSubplot:xlabel='sex', ylabel='day'>"
      ]
     },
     "execution_count": 59,
     "metadata": {},
     "output_type": "execute_result"
    },
    {
     "data": {
      "image/png": "[encoded data removed]",
      "text/plain": [
       "<Figure size 432x288 with 2 Axes>"
      ]
     },
     "metadata": {
      "needs_background": "light"
     },
     "output_type": "display_data"
    }
   ],
   "source": [
    "sns.heatmap(x,cmap='coolwarm')"
   ]
  },
  {
   "cell_type": "code",
   "execution_count": null,
   "id": "c752662e",
   "metadata": {},
   "outputs": [],
   "source": []
  }
 ],
 "metadata": {
  "kernelspec": {
   "display_name": "Python 3",
   "language": "python",
   "name": "python3"
  },
  "language_info": {
   "codemirror_mode": {
    "name": "ipython",
    "version": 3
   },
   "file_extension": ".py",
   "mimetype": "text/x-python",
   "name": "python",
   "nbconvert_exporter": "python",
   "pygments_lexer": "ipython3",
   "version": "3.9.5"
  }
 },
 "nbformat": 4,
 "nbformat_minor": 5
}
